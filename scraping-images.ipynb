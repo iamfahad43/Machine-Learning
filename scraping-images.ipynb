{
 "cells": [
  {
   "cell_type": "code",
   "execution_count": 1,
   "metadata": {},
   "outputs": [
    {
     "name": "stdout",
     "output_type": "stream",
     "text": [
      "Enter your search keyword: Soap Holder\n",
      "Enter the number of images you want: 90\n",
      "Searching Images....\n",
      "Found 80 images\n",
      "Start downloading...\n",
      "Download Completed!\n"
     ]
    }
   ],
   "source": [
    "import os\n",
    "import requests # pip install requests #to sent GET requests\n",
    "from bs4 import BeautifulSoup # pip install bs4 #to parse html(getting data out from html, xml or other markup languages)\n",
    "\n",
    "# user can input a search keyword and the count of images required\n",
    "# download images from google search image\n",
    "Google_Image = \\\n",
    "    'https://www.google.com/search?site=&tbm=isch&source=hp&biw=1873&bih=990&'\n",
    "\n",
    "# The User-Agent request header contains a characteristic string \n",
    "# that allows the network protocol peers to identify the application type, \n",
    "# operating system, and software version of the requesting software user agent.\n",
    "# needed for google search\n",
    "u_agnt = {\n",
    "    'User-Agent': 'Mozilla/5.0 (Windows NT 10.0; Win64; x64) AppleWebKit/537.36 (KHTML, like Gecko) Chrome/85.0.4183.83 Safari/537.36',\n",
    "    'Accept': 'text/html,application/xhtml+xml,application/xml;q=0.9,*/*;q=0.8',\n",
    "    'Accept-Charset': 'ISO-8859-1,utf-8;q=0.7,*;q=0.3',\n",
    "    'Accept-Encoding': 'none',\n",
    "    'Accept-Language': 'en-US,en;q=0.8',\n",
    "    'Connection': 'keep-alive',\n",
    "} #write: 'my user agent' in browser to get your browser user agent details\n",
    "\n",
    "\n",
    "data = input('Enter your search keyword: ')\n",
    "num_images = int(input('Enter the number of images you want: '))\n",
    "\n",
    "Image_Folder = data\n",
    "\n",
    "\n",
    "if not os.path.exists(Image_Folder):\n",
    "    os.mkdir(Image_Folder)\n",
    "print('Searching Images....')\n",
    "    \n",
    "search_url = Google_Image + 'q=' + data #'q=' because its a query\n",
    "    \n",
    "    # request url, without u_agnt the permission gets denied\n",
    "response = requests.get(search_url, headers=u_agnt)\n",
    "html = response.text #To get actual result i.e. to read the html data in text mode\n",
    "    \n",
    "# find all img where class='rg_i Q4LuWd'\n",
    "b_soup = BeautifulSoup(html, 'html.parser') #html.parser is used to parse/extract features from HTML files\n",
    "results = b_soup.findAll('img', {'class': 'rg_i Q4LuWd'})\n",
    "    \n",
    "#extract the links of requested number of images with 'data-src' attribute and appended those links to a list 'imagelinks'\n",
    "#allow to continue the loop in case query fails for non-data-src attributes\n",
    "count = 0\n",
    "imagelinks= []\n",
    "for res in results:\n",
    "    try:\n",
    "        link = res['data-src']\n",
    "        imagelinks.append(link)\n",
    "        count = count + 1\n",
    "        if (count >= num_images):\n",
    "            break\n",
    "            \n",
    "    except KeyError:\n",
    "        continue\n",
    "    \n",
    "print(f'Found {len(imagelinks)} images')\n",
    "print('Start downloading...')\n",
    "\n",
    "for i, imagelink in enumerate(imagelinks):\n",
    "# open each image link and save the file\n",
    "    response = requests.get(imagelink)\n",
    "        \n",
    "    imagename = Image_Folder + '/' + data + str(i+1) + '.jpg'\n",
    "    with open(imagename, 'wb') as file:\n",
    "        file.write(response.content)\n",
    "\n",
    "print('Download Completed!')\n",
    "    "
   ]
  },
  {
   "cell_type": "code",
   "execution_count": null,
   "metadata": {},
   "outputs": [],
   "source": []
  }
 ],
 "metadata": {
  "kernelspec": {
   "display_name": "Python 3",
   "language": "python",
   "name": "python3"
  },
  "language_info": {
   "codemirror_mode": {
    "name": "ipython",
    "version": 3
   },
   "file_extension": ".py",
   "mimetype": "text/x-python",
   "name": "python",
   "nbconvert_exporter": "python",
   "pygments_lexer": "ipython3",
   "version": "3.8.8"
  }
 },
 "nbformat": 4,
 "nbformat_minor": 4
}
