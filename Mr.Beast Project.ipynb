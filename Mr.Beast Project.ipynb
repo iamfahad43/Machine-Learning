{
 "cells": [
  {
   "cell_type": "code",
   "execution_count": 2,
   "id": "provincial-greece",
   "metadata": {},
   "outputs": [],
   "source": [
    "# basic imports\n",
    "\n",
    "import pandas as pd\n",
    "import numpy as np\n",
    "import matplotlib.pyplot as plt\n",
    "import seaborn as sns\n",
    "\n",
    "from sklearn.model_selection import train_test_split"
   ]
  },
  {
   "cell_type": "markdown",
   "id": "headed-green",
   "metadata": {},
   "source": [
    "MrBeast Youtube Video Titles - Dollar Giveaway !!\n",
    "Jimmy Donaldson also known as MrBeast, is an American YouTuber, internet personality, businessman, and philanthropist. He has been credited with pioneering a genre of YouTube videos that center on expensive stunts.\n",
    "\n",
    "Interesting Analysis to find:\n",
    "How many Dollars have MrBeast spent so far?"
   ]
  },
  {
   "cell_type": "code",
   "execution_count": 5,
   "id": "important-premiere",
   "metadata": {},
   "outputs": [],
   "source": [
    "# loading our data labels\n",
    "data = pd.read_csv('MrBeast_titles.csv')"
   ]
  },
  {
   "cell_type": "code",
   "execution_count": 4,
   "id": "anonymous-highway",
   "metadata": {},
   "outputs": [
    {
     "data": {
      "text/html": [
       "<div>\n",
       "<style scoped>\n",
       "    .dataframe tbody tr th:only-of-type {\n",
       "        vertical-align: middle;\n",
       "    }\n",
       "\n",
       "    .dataframe tbody tr th {\n",
       "        vertical-align: top;\n",
       "    }\n",
       "\n",
       "    .dataframe thead th {\n",
       "        text-align: right;\n",
       "    }\n",
       "</style>\n",
       "<table border=\"1\" class=\"dataframe\">\n",
       "  <thead>\n",
       "    <tr style=\"text-align: right;\">\n",
       "      <th></th>\n",
       "      <th>active_since_days</th>\n",
       "      <th>duration_seconds</th>\n",
       "      <th>total_views</th>\n",
       "      <th>num_chars</th>\n",
       "      <th>num_words</th>\n",
       "      <th>num_punctuation</th>\n",
       "      <th>num_words_uppercase</th>\n",
       "      <th>num_words_lowercase</th>\n",
       "      <th>num_stopwords</th>\n",
       "      <th>avg_word_len</th>\n",
       "      <th>contain_digits</th>\n",
       "      <th>startswith_digits</th>\n",
       "      <th>title_sentiment</th>\n",
       "    </tr>\n",
       "  </thead>\n",
       "  <tbody>\n",
       "    <tr>\n",
       "      <th>count</th>\n",
       "      <td>744.000000</td>\n",
       "      <td>744.000000</td>\n",
       "      <td>7.440000e+02</td>\n",
       "      <td>744.000000</td>\n",
       "      <td>744.000000</td>\n",
       "      <td>744.000000</td>\n",
       "      <td>744.000000</td>\n",
       "      <td>744.000000</td>\n",
       "      <td>744.000000</td>\n",
       "      <td>744.000000</td>\n",
       "      <td>744.000000</td>\n",
       "      <td>744.000000</td>\n",
       "      <td>744.000000</td>\n",
       "    </tr>\n",
       "    <tr>\n",
       "      <th>mean</th>\n",
       "      <td>1716.247312</td>\n",
       "      <td>1254.930108</td>\n",
       "      <td>2.085411e+07</td>\n",
       "      <td>38.930108</td>\n",
       "      <td>6.715054</td>\n",
       "      <td>2.123656</td>\n",
       "      <td>0.818548</td>\n",
       "      <td>0.422043</td>\n",
       "      <td>1.866935</td>\n",
       "      <td>5.971264</td>\n",
       "      <td>0.452957</td>\n",
       "      <td>0.068548</td>\n",
       "      <td>0.037409</td>\n",
       "    </tr>\n",
       "    <tr>\n",
       "      <th>std</th>\n",
       "      <td>834.641697</td>\n",
       "      <td>7187.372151</td>\n",
       "      <td>3.393506e+07</td>\n",
       "      <td>14.790796</td>\n",
       "      <td>2.684784</td>\n",
       "      <td>1.975156</td>\n",
       "      <td>1.493145</td>\n",
       "      <td>1.235129</td>\n",
       "      <td>1.513433</td>\n",
       "      <td>1.245005</td>\n",
       "      <td>0.498117</td>\n",
       "      <td>0.252855</td>\n",
       "      <td>0.342894</td>\n",
       "    </tr>\n",
       "    <tr>\n",
       "      <th>min</th>\n",
       "      <td>0.000000</td>\n",
       "      <td>0.000000</td>\n",
       "      <td>0.000000e+00</td>\n",
       "      <td>3.000000</td>\n",
       "      <td>1.000000</td>\n",
       "      <td>0.000000</td>\n",
       "      <td>0.000000</td>\n",
       "      <td>0.000000</td>\n",
       "      <td>0.000000</td>\n",
       "      <td>3.000000</td>\n",
       "      <td>0.000000</td>\n",
       "      <td>0.000000</td>\n",
       "      <td>-1.000000</td>\n",
       "    </tr>\n",
       "    <tr>\n",
       "      <th>25%</th>\n",
       "      <td>1095.000000</td>\n",
       "      <td>183.750000</td>\n",
       "      <td>3.783650e+04</td>\n",
       "      <td>30.000000</td>\n",
       "      <td>5.000000</td>\n",
       "      <td>1.000000</td>\n",
       "      <td>0.000000</td>\n",
       "      <td>0.000000</td>\n",
       "      <td>1.000000</td>\n",
       "      <td>5.166667</td>\n",
       "      <td>0.000000</td>\n",
       "      <td>0.000000</td>\n",
       "      <td>0.000000</td>\n",
       "    </tr>\n",
       "    <tr>\n",
       "      <th>50%</th>\n",
       "      <td>1825.000000</td>\n",
       "      <td>274.500000</td>\n",
       "      <td>2.146900e+05</td>\n",
       "      <td>39.000000</td>\n",
       "      <td>7.000000</td>\n",
       "      <td>2.000000</td>\n",
       "      <td>0.000000</td>\n",
       "      <td>0.000000</td>\n",
       "      <td>2.000000</td>\n",
       "      <td>5.750000</td>\n",
       "      <td>0.000000</td>\n",
       "      <td>0.000000</td>\n",
       "      <td>0.000000</td>\n",
       "    </tr>\n",
       "    <tr>\n",
       "      <th>75%</th>\n",
       "      <td>2190.000000</td>\n",
       "      <td>760.000000</td>\n",
       "      <td>3.413867e+07</td>\n",
       "      <td>46.000000</td>\n",
       "      <td>8.000000</td>\n",
       "      <td>3.000000</td>\n",
       "      <td>1.000000</td>\n",
       "      <td>0.000000</td>\n",
       "      <td>3.000000</td>\n",
       "      <td>6.500000</td>\n",
       "      <td>1.000000</td>\n",
       "      <td>0.000000</td>\n",
       "      <td>0.177083</td>\n",
       "    </tr>\n",
       "    <tr>\n",
       "      <th>max</th>\n",
       "      <td>3285.000000</td>\n",
       "      <td>86400.000000</td>\n",
       "      <td>1.681452e+08</td>\n",
       "      <td>149.000000</td>\n",
       "      <td>26.000000</td>\n",
       "      <td>17.000000</td>\n",
       "      <td>9.000000</td>\n",
       "      <td>11.000000</td>\n",
       "      <td>12.000000</td>\n",
       "      <td>15.000000</td>\n",
       "      <td>1.000000</td>\n",
       "      <td>1.000000</td>\n",
       "      <td>1.000000</td>\n",
       "    </tr>\n",
       "  </tbody>\n",
       "</table>\n",
       "</div>"
      ],
      "text/plain": [
       "       active_since_days  duration_seconds   total_views   num_chars  \\\n",
       "count         744.000000        744.000000  7.440000e+02  744.000000   \n",
       "mean         1716.247312       1254.930108  2.085411e+07   38.930108   \n",
       "std           834.641697       7187.372151  3.393506e+07   14.790796   \n",
       "min             0.000000          0.000000  0.000000e+00    3.000000   \n",
       "25%          1095.000000        183.750000  3.783650e+04   30.000000   \n",
       "50%          1825.000000        274.500000  2.146900e+05   39.000000   \n",
       "75%          2190.000000        760.000000  3.413867e+07   46.000000   \n",
       "max          3285.000000      86400.000000  1.681452e+08  149.000000   \n",
       "\n",
       "        num_words  num_punctuation  num_words_uppercase  num_words_lowercase  \\\n",
       "count  744.000000       744.000000           744.000000           744.000000   \n",
       "mean     6.715054         2.123656             0.818548             0.422043   \n",
       "std      2.684784         1.975156             1.493145             1.235129   \n",
       "min      1.000000         0.000000             0.000000             0.000000   \n",
       "25%      5.000000         1.000000             0.000000             0.000000   \n",
       "50%      7.000000         2.000000             0.000000             0.000000   \n",
       "75%      8.000000         3.000000             1.000000             0.000000   \n",
       "max     26.000000        17.000000             9.000000            11.000000   \n",
       "\n",
       "       num_stopwords  avg_word_len  contain_digits  startswith_digits  \\\n",
       "count     744.000000    744.000000      744.000000         744.000000   \n",
       "mean        1.866935      5.971264        0.452957           0.068548   \n",
       "std         1.513433      1.245005        0.498117           0.252855   \n",
       "min         0.000000      3.000000        0.000000           0.000000   \n",
       "25%         1.000000      5.166667        0.000000           0.000000   \n",
       "50%         2.000000      5.750000        0.000000           0.000000   \n",
       "75%         3.000000      6.500000        1.000000           0.000000   \n",
       "max        12.000000     15.000000        1.000000           1.000000   \n",
       "\n",
       "       title_sentiment  \n",
       "count       744.000000  \n",
       "mean          0.037409  \n",
       "std           0.342894  \n",
       "min          -1.000000  \n",
       "25%           0.000000  \n",
       "50%           0.000000  \n",
       "75%           0.177083  \n",
       "max           1.000000  "
      ]
     },
     "execution_count": 4,
     "metadata": {},
     "output_type": "execute_result"
    }
   ],
   "source": [
    "data.describe()"
   ]
  },
  {
   "cell_type": "code",
   "execution_count": 7,
   "id": "unlimited-volume",
   "metadata": {},
   "outputs": [
    {
     "data": {
      "text/plain": [
       "744"
      ]
     },
     "execution_count": 7,
     "metadata": {},
     "output_type": "execute_result"
    }
   ],
   "source": [
    "# checking some insights on dataset\n",
    "\n",
    "len(data)"
   ]
  },
  {
   "cell_type": "code",
   "execution_count": 8,
   "id": "athletic-evening",
   "metadata": {},
   "outputs": [
    {
     "data": {
      "text/html": [
       "<div>\n",
       "<style scoped>\n",
       "    .dataframe tbody tr th:only-of-type {\n",
       "        vertical-align: middle;\n",
       "    }\n",
       "\n",
       "    .dataframe tbody tr th {\n",
       "        vertical-align: top;\n",
       "    }\n",
       "\n",
       "    .dataframe thead th {\n",
       "        text-align: right;\n",
       "    }\n",
       "</style>\n",
       "<table border=\"1\" class=\"dataframe\">\n",
       "  <thead>\n",
       "    <tr style=\"text-align: right;\">\n",
       "      <th></th>\n",
       "      <th>video_id</th>\n",
       "      <th>title</th>\n",
       "      <th>active_since_days</th>\n",
       "      <th>duration_seconds</th>\n",
       "      <th>total_views</th>\n",
       "      <th>num_chars</th>\n",
       "      <th>num_words</th>\n",
       "      <th>num_punctuation</th>\n",
       "      <th>num_words_uppercase</th>\n",
       "      <th>num_words_lowercase</th>\n",
       "      <th>num_stopwords</th>\n",
       "      <th>avg_word_len</th>\n",
       "      <th>contain_digits</th>\n",
       "      <th>startswith_digits</th>\n",
       "      <th>title_sentiment</th>\n",
       "    </tr>\n",
       "  </thead>\n",
       "  <tbody>\n",
       "    <tr>\n",
       "      <th>0</th>\n",
       "      <td>v=QbJJwaVdgIs</td>\n",
       "      <td>I Got Hunted By The Military</td>\n",
       "      <td>4</td>\n",
       "      <td>662</td>\n",
       "      <td>34951603</td>\n",
       "      <td>28</td>\n",
       "      <td>6</td>\n",
       "      <td>0</td>\n",
       "      <td>1</td>\n",
       "      <td>0</td>\n",
       "      <td>3</td>\n",
       "      <td>4.666667</td>\n",
       "      <td>0</td>\n",
       "      <td>0</td>\n",
       "      <td>-0.100</td>\n",
       "    </tr>\n",
       "    <tr>\n",
       "      <th>1</th>\n",
       "      <td>v=0e3GPea1Tyg</td>\n",
       "      <td>$456,000 Squid Game In Real Life!</td>\n",
       "      <td>10</td>\n",
       "      <td>1500</td>\n",
       "      <td>168145214</td>\n",
       "      <td>33</td>\n",
       "      <td>6</td>\n",
       "      <td>3</td>\n",
       "      <td>0</td>\n",
       "      <td>0</td>\n",
       "      <td>1</td>\n",
       "      <td>5.500000</td>\n",
       "      <td>1</td>\n",
       "      <td>1</td>\n",
       "      <td>-0.075</td>\n",
       "    </tr>\n",
       "    <tr>\n",
       "      <th>2</th>\n",
       "      <td>v=LeYsRMZFUq0</td>\n",
       "      <td>I Gave People $1,000,000 But ONLY 1 Minute To ...</td>\n",
       "      <td>330</td>\n",
       "      <td>858</td>\n",
       "      <td>91045927</td>\n",
       "      <td>55</td>\n",
       "      <td>11</td>\n",
       "      <td>4</td>\n",
       "      <td>2</td>\n",
       "      <td>0</td>\n",
       "      <td>4</td>\n",
       "      <td>5.000000</td>\n",
       "      <td>1</td>\n",
       "      <td>0</td>\n",
       "      <td>0.000</td>\n",
       "    </tr>\n",
       "    <tr>\n",
       "      <th>3</th>\n",
       "      <td>v=qIsgdOVGA04</td>\n",
       "      <td>Last To Take Hand Off Lamborghini, Keeps It</td>\n",
       "      <td>30</td>\n",
       "      <td>900</td>\n",
       "      <td>51208369</td>\n",
       "      <td>43</td>\n",
       "      <td>8</td>\n",
       "      <td>1</td>\n",
       "      <td>0</td>\n",
       "      <td>0</td>\n",
       "      <td>3</td>\n",
       "      <td>5.375000</td>\n",
       "      <td>0</td>\n",
       "      <td>0</td>\n",
       "      <td>0.000</td>\n",
       "    </tr>\n",
       "    <tr>\n",
       "      <th>4</th>\n",
       "      <td>v=zxYjTTXc-J8</td>\n",
       "      <td>Last To Leave Circle Wins $500,000</td>\n",
       "      <td>90</td>\n",
       "      <td>1140</td>\n",
       "      <td>91940786</td>\n",
       "      <td>34</td>\n",
       "      <td>6</td>\n",
       "      <td>2</td>\n",
       "      <td>0</td>\n",
       "      <td>0</td>\n",
       "      <td>1</td>\n",
       "      <td>5.666667</td>\n",
       "      <td>1</td>\n",
       "      <td>0</td>\n",
       "      <td>0.150</td>\n",
       "    </tr>\n",
       "  </tbody>\n",
       "</table>\n",
       "</div>"
      ],
      "text/plain": [
       "        video_id                                              title  \\\n",
       "0  v=QbJJwaVdgIs                       I Got Hunted By The Military   \n",
       "1  v=0e3GPea1Tyg                  $456,000 Squid Game In Real Life!   \n",
       "2  v=LeYsRMZFUq0  I Gave People $1,000,000 But ONLY 1 Minute To ...   \n",
       "3  v=qIsgdOVGA04        Last To Take Hand Off Lamborghini, Keeps It   \n",
       "4  v=zxYjTTXc-J8                 Last To Leave Circle Wins $500,000   \n",
       "\n",
       "   active_since_days  duration_seconds  total_views  num_chars  num_words  \\\n",
       "0                  4               662     34951603         28          6   \n",
       "1                 10              1500    168145214         33          6   \n",
       "2                330               858     91045927         55         11   \n",
       "3                 30               900     51208369         43          8   \n",
       "4                 90              1140     91940786         34          6   \n",
       "\n",
       "   num_punctuation  num_words_uppercase  num_words_lowercase  num_stopwords  \\\n",
       "0                0                    1                    0              3   \n",
       "1                3                    0                    0              1   \n",
       "2                4                    2                    0              4   \n",
       "3                1                    0                    0              3   \n",
       "4                2                    0                    0              1   \n",
       "\n",
       "   avg_word_len  contain_digits  startswith_digits  title_sentiment  \n",
       "0      4.666667               0                  0           -0.100  \n",
       "1      5.500000               1                  1           -0.075  \n",
       "2      5.000000               1                  0            0.000  \n",
       "3      5.375000               0                  0            0.000  \n",
       "4      5.666667               1                  0            0.150  "
      ]
     },
     "execution_count": 8,
     "metadata": {},
     "output_type": "execute_result"
    }
   ],
   "source": [
    "data.head()"
   ]
  },
  {
   "cell_type": "code",
   "execution_count": 9,
   "id": "ambient-burns",
   "metadata": {},
   "outputs": [
    {
     "data": {
      "text/html": [
       "<div>\n",
       "<style scoped>\n",
       "    .dataframe tbody tr th:only-of-type {\n",
       "        vertical-align: middle;\n",
       "    }\n",
       "\n",
       "    .dataframe tbody tr th {\n",
       "        vertical-align: top;\n",
       "    }\n",
       "\n",
       "    .dataframe thead th {\n",
       "        text-align: right;\n",
       "    }\n",
       "</style>\n",
       "<table border=\"1\" class=\"dataframe\">\n",
       "  <thead>\n",
       "    <tr style=\"text-align: right;\">\n",
       "      <th></th>\n",
       "      <th>video_id</th>\n",
       "      <th>title</th>\n",
       "      <th>active_since_days</th>\n",
       "      <th>duration_seconds</th>\n",
       "      <th>total_views</th>\n",
       "      <th>num_chars</th>\n",
       "      <th>num_words</th>\n",
       "      <th>num_punctuation</th>\n",
       "      <th>num_words_uppercase</th>\n",
       "      <th>num_words_lowercase</th>\n",
       "      <th>num_stopwords</th>\n",
       "      <th>avg_word_len</th>\n",
       "      <th>contain_digits</th>\n",
       "      <th>startswith_digits</th>\n",
       "      <th>title_sentiment</th>\n",
       "    </tr>\n",
       "  </thead>\n",
       "  <tbody>\n",
       "    <tr>\n",
       "      <th>0</th>\n",
       "      <td>v=QbJJwaVdgIs</td>\n",
       "      <td>I Got Hunted By The Military</td>\n",
       "      <td>4</td>\n",
       "      <td>662</td>\n",
       "      <td>34951603</td>\n",
       "      <td>28</td>\n",
       "      <td>6</td>\n",
       "      <td>0</td>\n",
       "      <td>1</td>\n",
       "      <td>0</td>\n",
       "      <td>3</td>\n",
       "      <td>4.666667</td>\n",
       "      <td>0</td>\n",
       "      <td>0</td>\n",
       "      <td>-0.100000</td>\n",
       "    </tr>\n",
       "    <tr>\n",
       "      <th>1</th>\n",
       "      <td>v=0e3GPea1Tyg</td>\n",
       "      <td>$456,000 Squid Game In Real Life!</td>\n",
       "      <td>10</td>\n",
       "      <td>1500</td>\n",
       "      <td>168145214</td>\n",
       "      <td>33</td>\n",
       "      <td>6</td>\n",
       "      <td>3</td>\n",
       "      <td>0</td>\n",
       "      <td>0</td>\n",
       "      <td>1</td>\n",
       "      <td>5.500000</td>\n",
       "      <td>1</td>\n",
       "      <td>1</td>\n",
       "      <td>-0.075000</td>\n",
       "    </tr>\n",
       "    <tr>\n",
       "      <th>2</th>\n",
       "      <td>v=LeYsRMZFUq0</td>\n",
       "      <td>I Gave People $1,000,000 But ONLY 1 Minute To ...</td>\n",
       "      <td>330</td>\n",
       "      <td>858</td>\n",
       "      <td>91045927</td>\n",
       "      <td>55</td>\n",
       "      <td>11</td>\n",
       "      <td>4</td>\n",
       "      <td>2</td>\n",
       "      <td>0</td>\n",
       "      <td>4</td>\n",
       "      <td>5.000000</td>\n",
       "      <td>1</td>\n",
       "      <td>0</td>\n",
       "      <td>0.000000</td>\n",
       "    </tr>\n",
       "    <tr>\n",
       "      <th>3</th>\n",
       "      <td>v=qIsgdOVGA04</td>\n",
       "      <td>Last To Take Hand Off Lamborghini, Keeps It</td>\n",
       "      <td>30</td>\n",
       "      <td>900</td>\n",
       "      <td>51208369</td>\n",
       "      <td>43</td>\n",
       "      <td>8</td>\n",
       "      <td>1</td>\n",
       "      <td>0</td>\n",
       "      <td>0</td>\n",
       "      <td>3</td>\n",
       "      <td>5.375000</td>\n",
       "      <td>0</td>\n",
       "      <td>0</td>\n",
       "      <td>0.000000</td>\n",
       "    </tr>\n",
       "    <tr>\n",
       "      <th>4</th>\n",
       "      <td>v=zxYjTTXc-J8</td>\n",
       "      <td>Last To Leave Circle Wins $500,000</td>\n",
       "      <td>90</td>\n",
       "      <td>1140</td>\n",
       "      <td>91940786</td>\n",
       "      <td>34</td>\n",
       "      <td>6</td>\n",
       "      <td>2</td>\n",
       "      <td>0</td>\n",
       "      <td>0</td>\n",
       "      <td>1</td>\n",
       "      <td>5.666667</td>\n",
       "      <td>1</td>\n",
       "      <td>0</td>\n",
       "      <td>0.150000</td>\n",
       "    </tr>\n",
       "    <tr>\n",
       "      <th>...</th>\n",
       "      <td>...</td>\n",
       "      <td>...</td>\n",
       "      <td>...</td>\n",
       "      <td>...</td>\n",
       "      <td>...</td>\n",
       "      <td>...</td>\n",
       "      <td>...</td>\n",
       "      <td>...</td>\n",
       "      <td>...</td>\n",
       "      <td>...</td>\n",
       "      <td>...</td>\n",
       "      <td>...</td>\n",
       "      <td>...</td>\n",
       "      <td>...</td>\n",
       "      <td>...</td>\n",
       "    </tr>\n",
       "    <tr>\n",
       "      <th>739</th>\n",
       "      <td>v=7qj3nuF9Dzw</td>\n",
       "      <td>Most Epic minecraft skin EVER  (Psy)</td>\n",
       "      <td>2920</td>\n",
       "      <td>30</td>\n",
       "      <td>415592</td>\n",
       "      <td>36</td>\n",
       "      <td>6</td>\n",
       "      <td>2</td>\n",
       "      <td>1</td>\n",
       "      <td>2</td>\n",
       "      <td>1</td>\n",
       "      <td>6.000000</td>\n",
       "      <td>0</td>\n",
       "      <td>0</td>\n",
       "      <td>0.300000</td>\n",
       "    </tr>\n",
       "    <tr>\n",
       "      <th>740</th>\n",
       "      <td>v=Y74b7WlcEpk</td>\n",
       "      <td>More birds IN MINECRAFT!!</td>\n",
       "      <td>2920</td>\n",
       "      <td>126</td>\n",
       "      <td>502514</td>\n",
       "      <td>25</td>\n",
       "      <td>4</td>\n",
       "      <td>2</td>\n",
       "      <td>2</td>\n",
       "      <td>1</td>\n",
       "      <td>2</td>\n",
       "      <td>6.250000</td>\n",
       "      <td>0</td>\n",
       "      <td>0</td>\n",
       "      <td>0.781250</td>\n",
       "    </tr>\n",
       "    <tr>\n",
       "      <th>741</th>\n",
       "      <td>v=Z8nEEdXTaX0</td>\n",
       "      <td>Boxy item mod Minecraft.  EPIC</td>\n",
       "      <td>2920</td>\n",
       "      <td>90</td>\n",
       "      <td>568947</td>\n",
       "      <td>30</td>\n",
       "      <td>5</td>\n",
       "      <td>1</td>\n",
       "      <td>1</td>\n",
       "      <td>2</td>\n",
       "      <td>0</td>\n",
       "      <td>6.000000</td>\n",
       "      <td>0</td>\n",
       "      <td>0</td>\n",
       "      <td>0.150000</td>\n",
       "    </tr>\n",
       "    <tr>\n",
       "      <th>742</th>\n",
       "      <td>v=jP82d277Cc8</td>\n",
       "      <td>Harry Potter Mod In Minecraft! EPIC MUST SEE M...</td>\n",
       "      <td>3285</td>\n",
       "      <td>239</td>\n",
       "      <td>2007602</td>\n",
       "      <td>51</td>\n",
       "      <td>9</td>\n",
       "      <td>4</td>\n",
       "      <td>4</td>\n",
       "      <td>0</td>\n",
       "      <td>1</td>\n",
       "      <td>5.666667</td>\n",
       "      <td>0</td>\n",
       "      <td>0</td>\n",
       "      <td>0.246875</td>\n",
       "    </tr>\n",
       "    <tr>\n",
       "      <th>743</th>\n",
       "      <td>v=2XVcLrB7B3Y</td>\n",
       "      <td>Worst Minecraft Saw Trap Ever???</td>\n",
       "      <td>3285</td>\n",
       "      <td>157</td>\n",
       "      <td>9198455</td>\n",
       "      <td>32</td>\n",
       "      <td>5</td>\n",
       "      <td>3</td>\n",
       "      <td>0</td>\n",
       "      <td>0</td>\n",
       "      <td>0</td>\n",
       "      <td>6.400000</td>\n",
       "      <td>0</td>\n",
       "      <td>0</td>\n",
       "      <td>-1.000000</td>\n",
       "    </tr>\n",
       "  </tbody>\n",
       "</table>\n",
       "<p>744 rows × 15 columns</p>\n",
       "</div>"
      ],
      "text/plain": [
       "          video_id                                              title  \\\n",
       "0    v=QbJJwaVdgIs                       I Got Hunted By The Military   \n",
       "1    v=0e3GPea1Tyg                  $456,000 Squid Game In Real Life!   \n",
       "2    v=LeYsRMZFUq0  I Gave People $1,000,000 But ONLY 1 Minute To ...   \n",
       "3    v=qIsgdOVGA04        Last To Take Hand Off Lamborghini, Keeps It   \n",
       "4    v=zxYjTTXc-J8                 Last To Leave Circle Wins $500,000   \n",
       "..             ...                                                ...   \n",
       "739  v=7qj3nuF9Dzw               Most Epic minecraft skin EVER  (Psy)   \n",
       "740  v=Y74b7WlcEpk                          More birds IN MINECRAFT!!   \n",
       "741  v=Z8nEEdXTaX0                     Boxy item mod Minecraft.  EPIC   \n",
       "742  v=jP82d277Cc8  Harry Potter Mod In Minecraft! EPIC MUST SEE M...   \n",
       "743  v=2XVcLrB7B3Y                   Worst Minecraft Saw Trap Ever???   \n",
       "\n",
       "     active_since_days  duration_seconds  total_views  num_chars  num_words  \\\n",
       "0                    4               662     34951603         28          6   \n",
       "1                   10              1500    168145214         33          6   \n",
       "2                  330               858     91045927         55         11   \n",
       "3                   30               900     51208369         43          8   \n",
       "4                   90              1140     91940786         34          6   \n",
       "..                 ...               ...          ...        ...        ...   \n",
       "739               2920                30       415592         36          6   \n",
       "740               2920               126       502514         25          4   \n",
       "741               2920                90       568947         30          5   \n",
       "742               3285               239      2007602         51          9   \n",
       "743               3285               157      9198455         32          5   \n",
       "\n",
       "     num_punctuation  num_words_uppercase  num_words_lowercase  num_stopwords  \\\n",
       "0                  0                    1                    0              3   \n",
       "1                  3                    0                    0              1   \n",
       "2                  4                    2                    0              4   \n",
       "3                  1                    0                    0              3   \n",
       "4                  2                    0                    0              1   \n",
       "..               ...                  ...                  ...            ...   \n",
       "739                2                    1                    2              1   \n",
       "740                2                    2                    1              2   \n",
       "741                1                    1                    2              0   \n",
       "742                4                    4                    0              1   \n",
       "743                3                    0                    0              0   \n",
       "\n",
       "     avg_word_len  contain_digits  startswith_digits  title_sentiment  \n",
       "0        4.666667               0                  0        -0.100000  \n",
       "1        5.500000               1                  1        -0.075000  \n",
       "2        5.000000               1                  0         0.000000  \n",
       "3        5.375000               0                  0         0.000000  \n",
       "4        5.666667               1                  0         0.150000  \n",
       "..            ...             ...                ...              ...  \n",
       "739      6.000000               0                  0         0.300000  \n",
       "740      6.250000               0                  0         0.781250  \n",
       "741      6.000000               0                  0         0.150000  \n",
       "742      5.666667               0                  0         0.246875  \n",
       "743      6.400000               0                  0        -1.000000  \n",
       "\n",
       "[744 rows x 15 columns]"
      ]
     },
     "execution_count": 9,
     "metadata": {},
     "output_type": "execute_result"
    }
   ],
   "source": [
    "data"
   ]
  },
  {
   "cell_type": "code",
   "execution_count": 14,
   "id": "spoken-constant",
   "metadata": {},
   "outputs": [
    {
     "data": {
      "text/plain": [
       "744"
      ]
     },
     "execution_count": 14,
     "metadata": {},
     "output_type": "execute_result"
    }
   ],
   "source": [
    "len(data[\"video_id\"])"
   ]
  },
  {
   "cell_type": "code",
   "execution_count": 15,
   "id": "controlled-variety",
   "metadata": {},
   "outputs": [
    {
     "data": {
      "text/plain": [
       "744"
      ]
     },
     "execution_count": 15,
     "metadata": {},
     "output_type": "execute_result"
    }
   ],
   "source": [
    "len(data[\"title\"])"
   ]
  },
  {
   "cell_type": "code",
   "execution_count": 16,
   "id": "thrown-fabric",
   "metadata": {},
   "outputs": [
    {
     "data": {
      "text/plain": [
       "array(['\"Beast\" Channel Trailer', '#1 MOST INSANE MAGNET LIFE HACK EVER',\n",
       "       '$10,000 Games Of Rock Paper Scissors',\n",
       "       '$100 GIVEAWAY PRANK (NO WEAPONS INVOLVED)',\n",
       "       '$10000 Ice Sculpture Vs Flame', '$200,000 Youtuber Battle Royale',\n",
       "       '$250,000 Influencer Rock, Paper, Scissors Tournament',\n",
       "       '$300,000 Influencer Trivia Tournament!',\n",
       "       '$456,000 Squid Game In Real Life!',\n",
       "       '$50,000 Game Of Extreme Hide And Seek - Challenge',\n",
       "       '$60,000 Extreme Hide And Seek - Challenge',\n",
       "       '$70,000 Extreme Hide And Seek - Challenge',\n",
       "       \"10 Things You DIDN'T Know About Youtube!\", '10,000 QNA With MUM',\n",
       "       '100 LAYERS OF SARAN WRAP + TOILET PAPER!!',\n",
       "       '100,000 Player Building Challenge!', '100,000 SUBSCRIBERS.EXE',\n",
       "       '100k Subs With No Videos????', '100th VIDEO SPECIAL!',\n",
       "       '1080p FREE TO USE BLACK OPS 3 GAMEPLAY',\n",
       "       '15,000 Subscribers Speedart!', '1500',\n",
       "       \"18th Birthday QNA - Mom's Hair Dryer Age?\", '1k Subs',\n",
       "       '2,000 Subscribers', '2,256 Miles In One Uber Ride (World Record)',\n",
       "       '20 Best Websites?????', '20,000', '20,000 Magnets Vs A Car',\n",
       "       '2015 Year Highlights',\n",
       "       '203 Kill Game! Thanks For 300 Subscribers!',\n",
       "       '24 HOUR EXPLOSION GIVEAWAY! WIN GIFTCARDS',\n",
       "       '24 Hours In The Most Haunted Place On Earth', '3k HYPE',\n",
       "       \"4k Subscriber's! First Channel Story!\",\n",
       "       '5 Popular Channels That Were Terminated',\n",
       "       '5 Steps To Becoming Successful On Youtube',\n",
       "       '5 Steps To Becoming Successful On Youtube!',\n",
       "       '5 Times People CHEATED In MrBeast Videos.. by ItsOwen  2 weeks ago 8 minutes, 27 seconds 676,488 views',\n",
       "       '5 Youtubers I Think Will Be Famous...',\n",
       "       '5$ To Advertise Your Youtube Channel???', '5,000 Hype',\n",
       "       '50,000 Subscribers.exe', '50k Video Views!!!! EpicSauce!',\n",
       "       '6 Uses For Your Advanced Warfare Disk!',\n",
       "       '7k SUBS! Smashing Ghost + AW! Plus Channel Talk!',\n",
       "       '9k Subs - Channel Talk',\n",
       "       'Ad Blocker For Chrome and Mobile, Should You Use It?',\n",
       "       'Advanced Warfare DLC 4 Honest Parody',\n",
       "       'Airplane Pilots Last Words Before Death',\n",
       "       'Always Changing My Name? Mr.Beast or MrBeast6000',\n",
       "       'Am I Ian From Smosh????', 'Amazing minecraft Cathedral!',\n",
       "       \"Anything You Can Carry, I'll Pay For #2\",\n",
       "       \"Anything You Can Carry, I'll Pay For Challenge\",\n",
       "       'Anything You Can Fit In The Circle I’ll Pay For',\n",
       "       'Anything You Can Fit In The Triangle I’ll Pay For',\n",
       "       'Are Minecraft Faction Has A New Pet! (poopymiscquidlepants)',\n",
       "       'Are Youtubers Millionaires?',\n",
       "       'Attempting The Impossible Maze - $10,000 Challenge',\n",
       "       'BEST INTROS ON YOUTUBE #1', 'BEST WALMART TOILET PAPER FORT',\n",
       "       'BLOWING UP $1000 KEYBOARD *RIP WALLET*', 'BLOWING UP MY TABLET',\n",
       "       'BO3', 'Battle Of The Beast Round 1 Winners!',\n",
       "       'Battle Of The Beast Tournament UPDATE!',\n",
       "       'Battle Of The Beasts (youtubers needed)', 'Battle Pirates!',\n",
       "       'Battle Pirates, All Sentinel Base.',\n",
       "       'Battle Pirates, Another Hellstrike Fail.',\n",
       "       'Battle Pirates, Hellstrike Base attack.',\n",
       "       'Battle Pirates, Hellstrike Too Overpowered????',\n",
       "       'Battle Pirates, Hellstrike vs Epic Base!',\n",
       "       'Battle Pirates, Stingray vs Mercury Epic Battle!',\n",
       "       'Battle Pirates, Unstoppable Ship!',\n",
       "       'Battle Pirates, lvl 66 vs Missile Cruiser x Fleet!',\n",
       "       'Battle Pirates, my base.',\n",
       "       'Battle of The Beasts Bracket!!!! (Not accepting anymore)',\n",
       "       'Battle of The Beasts Round 2 Winners!',\n",
       "       'Battle pirates Hellstrike fail!',\n",
       "       'Battle pirates, How To Auto Lvl 40 Salvages.',\n",
       "       'Battle pirates, Lvl 58 Mercury Base Attack!',\n",
       "       'Beast $500ish Youtube PC Great For Making Videos!',\n",
       "       'Beast Gaming Set Up #almost4k',\n",
       "       \"Beast Goes Camping (Didn't Go Wrong) (Didn't Go Sexual)\",\n",
       "       \"Beast's Room Tour\", 'Best FNAF 4 Fake Reactions! So Funny lol',\n",
       "       'Best Green Screen Lighting Ever? (Joking Obviously)',\n",
       "       'Best Hellstrike Build???? (Battle Pirates)',\n",
       "       'Best League Player In The Universe.',\n",
       "       'Best Microphone For Youtube (Gaming Commentaries Vocals Singing Podcast)',\n",
       "       'Best Minecraft Castle Ever?',\n",
       "       'Best Non-Copyrighted Songs For Videos! (Intros Vlogs Gaming Trailers) 2016',\n",
       "       'Best Of FlipArtz - His Best Advanced Supply Drops EVER!',\n",
       "       'Best Thing To Happen To This Channel?????',\n",
       "       'Big Changes??? Idk just watch the stupid video',\n",
       "       \"Big Channel's Starting Over???\",\n",
       "       'Black Ops 2! Mini Update Video.',\n",
       "       'Black Ops 3 First Impressions, My First Game',\n",
       "       'Black ops 2 Gameplay w/ commentary. Hipsters',\n",
       "       'Black ops 2 Invisible equipment and scorestreak glitch!',\n",
       "       'Black ops 2 Patch news!',\n",
       "       'Black ops 2 Shotgun gameplay w/ commentary....  Ps4 or Xbox?',\n",
       "       'Bleach Bottle Flips (COP CALLED)',\n",
       "       'Boxy item mod Minecraft.  EPIC',\n",
       "       'Breaking Glass Using Only Megaphones', 'Breaking The Law',\n",
       "       'Bronze And Platinum Play Buttons?????',\n",
       "       'Buried Round 50 Gameplay! Black ops 2 Zombies.',\n",
       "       'COD IS NOT DEAD', 'CUTTING TABLE IN HALF WITH PLASTIC KNIVES',\n",
       "       'Call of Duty Ghost Multiplier Reveal Trailer Release Date!',\n",
       "       'Camping Montage.... LOL',\n",
       "       'Can 1,000 Fans At Max Speed Push A Car?',\n",
       "       'Can 1,000 Rolls Of Duct Tape Stop A Car??',\n",
       "       'Can 10,000 Condoms Stop A Bullet?',\n",
       "       'Can 100,000 Pieces Of Paper Stop A Bullet?',\n",
       "       'Can 50,000 Magnets Catch A Cannon Ball?',\n",
       "       'Can A Glowing 1000 Degree Sword Slice A Car In Half?',\n",
       "       'Career Ender ....  LOL', 'Cereal Commentary',\n",
       "       'Channel Trailer....', 'Channel Update.', 'Cheat Channels',\n",
       "       'Computer vs Console My Perspective.',\n",
       "       'Counting To 10000 In One Sitting',\n",
       "       'Counting To 200,000 (Road To A Mil)',\n",
       "       'Counting To 300,000 Road To A Mil (Part 1)',\n",
       "       'Crazy Illulsions In Minecraft. (Bigre)',\n",
       "       'Crazy Nub Tub Reactions! Bo2 Fun!', 'Cut Coms vs Uncut Coms',\n",
       "       'DIY $23.00 Mini Sound Booth? Does It Work?',\n",
       "       'Dear Future Me (Scheduled Uploaded 6 Months Ago)',\n",
       "       'Dear Razer Can I Have My 70$ Back?????',\n",
       "       \"Destroyed Friend's House And Bought Him A New One\",\n",
       "       \"Destroying My Friend's Car And Surprising Him With A New One\",\n",
       "       \"Destroying My Friend's Car And Surprising Him With A New One - Slime\",\n",
       "       'Direct T.V. Commercial Parody!  (Free gameplay trailer)',\n",
       "       'Do Dislikes Matter On Youtube - Are Dislikes Bad Or Good?',\n",
       "       'Do Tags Do Anything On Youtube?????',\n",
       "       'Do Water Repellent Shoes Actually Work?',\n",
       "       'Do You Think You Will Be Famous?????',\n",
       "       'Do Youtubers Pay Taxes????? (USA)', 'Does Spam Work?????',\n",
       "       'Dogs Opinions On Youtubers Getting BO3 Early',\n",
       "       'Doing Youtube For Fun Or Views?',\n",
       "       'Donating $10,000 To Fortnite Streamers If They Win',\n",
       "       'Donating $10,000 To Random Twitch Streamers',\n",
       "       'Donating $100,000 To A Random Fortnite Streamer',\n",
       "       'Donating $100,000 To Random Streamers',\n",
       "       'Donating $100,000 To Shroud In Real Life',\n",
       "       'Donating $100,000 To Streamers With 0 Viewers',\n",
       "       'Donating $10000 To Pewdiepie',\n",
       "       'Donating Big Donations To Twitch Streamers!!!',\n",
       "       'Double Agent (Short Film)', 'Drinks in minecraft (mod)',\n",
       "       'Dropping 10,000 Pennies In Public Prank',\n",
       "       'Dude Perfect 3.0 - We Are Better',\n",
       "       'Dude Perfect 4.0 - We Are Totally Better',\n",
       "       'Eating A $10,000 Golden Steak (24k Gold)',\n",
       "       'Emerald tool mod! (minecraft)',\n",
       "       'Epic Ghost Multiplayer EasterEggs! (PrisonBreak, Sovereign, and Flooded)',\n",
       "       'Epic Minecraft city! (w/ download link!)',\n",
       "       'Epic New Gaming And Youtube Setup 2016',\n",
       "       'Epic minecraft apartment complex!',\n",
       "       \"Every Challenge I've Ever Done\",\n",
       "       'Every FaZe Video Ever #karnageRC',\n",
       "       \"Every Minecraft Let's Play Ever In Under A Minute\",\n",
       "       'Exams Be Like', 'Exility And Some Other Stuff - Update Vid',\n",
       "       'Exility vs Dr.Pineapplez - Misleading Contest!',\n",
       "       'Extreme $100,000 Game of Tag!', 'Extreme $500,000 Game Of Tag!',\n",
       "       'FREE TO USE BO3 GAMEPLAY - 1080p', 'FaZe Adapt \"Stuttertage\"',\n",
       "       'FaZe Clan Vs Pewdiepie Who Would Win?????',\n",
       "       \"FaZe Members Reaction's To Joining Faze\",\n",
       "       'Fanboy Opinions On Black Ops 3',\n",
       "       'Fidget Spinner Vs Face (Legit Had To Get Stitches)',\n",
       "       'First To Rob Bank Wins $100,000',\n",
       "       \"Five Facts You Didn't Know About Youtube.\",\n",
       "       'Flappy Bird - Builders Showdown, Which is Better?',\n",
       "       'Flat Earth PROVEN By Independent Research',\n",
       "       'Free To Use Advanced Warfare Gameplay! 2015',\n",
       "       'Fun In COD. - Insane Reactions Lol',\n",
       "       'Funny Noob Tubing Reaction Montage!', 'G2g Brb',\n",
       "       'GAMBLING MONEY WITH SCRATCH OFF TICKETS',\n",
       "       'GIVING AWAY $100 ITUNES GIFT CARDS', 'GTA Wanted Level 100!',\n",
       "       'Get This Random Person 1,000,000 Subscribers',\n",
       "       'Giant Monopoly Game With Real Money',\n",
       "       'Giving $1,000,000 Of Food To People In Need',\n",
       "       'Giving $10,000 To Random People And Saying Nothing',\n",
       "       'Giving $100,000 To A Homeless Person',\n",
       "       'Giving 10,000 Presents To Kids For Christmas',\n",
       "       'Giving 3,000,000 Pennies To My 3,000,000th Subscriber',\n",
       "       'Giving A Random Homeless Man $10,000',\n",
       "       'Giving Away Two $15 Gift Cards (forgive me boyz)',\n",
       "       'Giving Homeless People $1,000 (Not Clickbait)',\n",
       "       'Giving My 10,000,000th Subscriber 10,000,000 ___',\n",
       "       'Giving My 4,000,000th Subscriber 4,000,000 Cookies',\n",
       "       'Giving My Mom $100,000 (Proudest Day Of My Life)',\n",
       "       'Going Around A Ferris Wheel 1,000 Times Straight',\n",
       "       'Going Through The Same Drive Thru 1,000 Times',\n",
       "       'Going To The Connor McGregor fight!', 'Goodbye Laptop',\n",
       "       'Google+ The Death Of Youtube?????',\n",
       "       'Grilling A Microwave Microwaving A Microwave Microwaving A Toaster Toasting An Iphone Watching Micro',\n",
       "       'Gunpowder plus mod! (Grenade mod) Epic explosions for minecraft.',\n",
       "       'HONEST Shout Out Sunday! Free Subscribers!',\n",
       "       'HOW MUCH MONEY DO YOUTUBERS MAKE?',\n",
       "       'HOW TO MAKE A GOOD INTRO FOR YOUTUBE',\n",
       "       'HOW TO MAKE A VIRAL PRANK VIDEO 100% LEGIT',\n",
       "       'HOW TO UNLOCK ANY IPHONE WITHOUT THE PASSCODE',\n",
       "       \"Hacker in Ghost???? I Couldn't Kill Him.\",\n",
       "       'Harry Potter Mod In Minecraft! EPIC MUST SEE MOD!!!',\n",
       "       'Has Youtube Met Its Match?????',\n",
       "       'Hearthstone - All Beards Challenge!', 'Hellstrikes vs 7 halos!',\n",
       "       'Hi Me In 5 Years',\n",
       "       'Hi Me In A Year (Scheduled Uploaded A Year Ago)',\n",
       "       'Hi Me In Two Years (Made Two Years Ago)',\n",
       "       'High School Education Be Like (Paying Taxes)',\n",
       "       'Highest Paid Musicians????',\n",
       "       'History Of COD Part 2! Black Ops 1 - History Of COD On Youtube!',\n",
       "       'Hit The Target, Win $300,000', 'Homeless Man Buys A Lamborghini',\n",
       "       'Horse racing map for new update! (minecraft)',\n",
       "       'How Did Notch Become A Billionaire? How Much Did Minecraft Sell For?????',\n",
       "       'How Do You Turn Off A PS4? Xbox Noob In Need Of Help',\n",
       "       'How Do Youtubers Make Money? How Do Youtubers Get Paid?',\n",
       "       'How I Gained 15,000,000 Subscribers In 1 Year',\n",
       "       'How I Gave Away $1,000,000',\n",
       "       'How I Will Survive The Zombie Apocalypse!',\n",
       "       'How Many Balloons Does It Take To Float?',\n",
       "       'How Many Licks Does It Take To Get To The Center Of A Tootsie Pop?',\n",
       "       'How Many People Do Youtube as a JOB?????',\n",
       "       'How Many People Get The Diamond Play Button?????',\n",
       "       'How Many People Get The Golden Play Button? (1,000,000 Subscribers)',\n",
       "       'How Many People Have A Silver Play Button????',\n",
       "       'How Many Rubber Bands Does It Take To Snap A Safe?',\n",
       "       'How Many Toy Cars Does It Take To Pull A Real Car?',\n",
       "       'How Many Youtubers Are Millionaires???',\n",
       "       'How Many Youtubers Are Millionaries?????',\n",
       "       'How Much $$$ Does Every Member of FaZe Make COMBINED????? 2016',\n",
       "       'How Much Do T.V. Commercials Cost?????',\n",
       "       'How Much Does \"Epic Rap Battles\" Make?????',\n",
       "       \"How Much Does Faze Rain's Giveaway Cost??????\",\n",
       "       'How Much Does PewDiePie Make????? 2016',\n",
       "       'How Much Does Pewdiepie Make?',\n",
       "       'How Much Does WhiteBoy7thSt Make????? 2016',\n",
       "       'How Much Money Did Gangnam Style Earn??? 2016',\n",
       "       'How Much Money Do Big Youtubers Make? (Pewdiepie, Markiplier, etc)',\n",
       "       'How Much Money Do I Make?????',\n",
       "       'How Much Money Do You Make As An Uber Driver??????',\n",
       "       'How Much Money Do Youtubers Make? Real Numbers!',\n",
       "       'How Much Money Does \"Chris Smooth\" Make?????',\n",
       "       'How Much Money Does \"Element Animation\" Make?????',\n",
       "       'How Much Money Does \"Skydoesminecraft\" Make????',\n",
       "       'How Much Money Does Bill Gates Make / Have - Billionaire',\n",
       "       'How Much Money Does CaptainSparkles Make????? 2016',\n",
       "       'How Much Money Does DramaAlert Make????',\n",
       "       'How Much Money Does FaZe Make?????',\n",
       "       'How Much Money Does FaZe Rain Make?????',\n",
       "       \"How Much Money Does KyR's Speedy's Crew Make?????\",\n",
       "       'How Much Money Does Markiplier Make????? 2016',\n",
       "       'How Much Money Does Penguinz0 Make????? 2016',\n",
       "       'How Much Money Does PewDiePie Make?????',\n",
       "       'How Much Money Does Pewdiepie Make????? (Updated 2015)',\n",
       "       'How Much Money Does Smosh Make????? 2016',\n",
       "       'How Much Money Does Syndicate Project Make????? 2016',\n",
       "       'How Much Money Does Tmartn Make?????',\n",
       "       'How Much Money Does Tobuscus Make?????',\n",
       "       'How Much Money Does Yogscast Make????? 2016',\n",
       "       'How Much Youtube Money Do I Make???',\n",
       "       'How Overpriced Is Movie Popcorn?????', 'How Rich Is Buzz Feed???',\n",
       "       'How To Be MrBeast (Made By Really Old Subscriber)',\n",
       "       'How To Become A Gaming Youtuber! All You Need To Know!',\n",
       "       'How To Do A High School or College Paper!',\n",
       "       'How To Duplicate Diamonds!!!!', 'How To Gain Youtube Success',\n",
       "       'How To Get 1,000 Subscribers On Youtube - Vlogs Gaming',\n",
       "       'How To Get A Gaming Partnership, And What It Is.',\n",
       "       'How To Get Active Subscribers On Youtube? Tips 2016',\n",
       "       'How To Get More Views And Subscribers On Youtube (2016)',\n",
       "       'How To Make Illuminati Confirmed Videos Like Peladophobian',\n",
       "       'How To Monetize Your Videos And Make Lots Of Youtube Money!!$$$',\n",
       "       'How To SAT, Get Into Yale',\n",
       "       'How To Think Of Good Video Ideas (Tips)',\n",
       "       \"How To Tweet When You're Dead! DEADSOCIAL Facebook And Instagram Also!\",\n",
       "       'How Video Games Boosted My SAT Score. Lol',\n",
       "       'How much money does VanossGaming Make? 2016',\n",
       "       'How to get unlimited diamonds! minecraft (x-ray)',\n",
       "       'Huge WW2 jeep! Minecraft creations.',\n",
       "       'I Adopted EVERY Dog In A Dog Shelter',\n",
       "       'I Advertised Pewdiepie At The Super Bowl',\n",
       "       'I Ate $100,000 Golden Ice Cream', 'I Ate A $70,000 Golden Pizza',\n",
       "       'I Ate The World’s Largest Slice Of Pizza',\n",
       "       'I BOUGHT A 1000$ KEYBOARD', 'I Bought A Car Using Only Pennies',\n",
       "       'I Bought A New Microphone!  (quality test)',\n",
       "       'I Bought A Private Island',\n",
       "       'I Bought An Abandoned Storage Unit And Found This..',\n",
       "       'I Bought An Expensive Car Using Only $1 Bills',\n",
       "       'I Bought Every Billboard In My City For This',\n",
       "       'I Bought Everything In 5 Stores',\n",
       "       'I Bought Everything In A Store - Challenge',\n",
       "       'I Bought One Snickers Bar From Every Walmart',\n",
       "       \"I Bought The World's Largest Firework ($600,000)\",\n",
       "       \"I Bought The World's Largest Mystery Box! ($500,000)\",\n",
       "       \"I Bought The World's Most Expensive Apps ($10k)\",\n",
       "       'I Broke Into A House', 'I Built A Giant House Using Only Legos',\n",
       "       'I Built A Mansion Using Only Cardboard Boxes',\n",
       "       'I Built A Working Car Using Only LEGOS',\n",
       "       \"I Built The World's Largest Lego Tower\",\n",
       "       \"I Can't Believe I Found This Stuff On Amazon..\",\n",
       "       \"I Can't Break My Strange Addiction\",\n",
       "       'I Cant Believe What Was In This Abandoned Storage Unit..',\n",
       "       'I Cleaned The World’s Dirtiest Beach #TeamSeas',\n",
       "       'I Counted To 100,000!',\n",
       "       'I Donated $10,000 If They Said This Word (Twitch Streamers)',\n",
       "       'I Donated $1000 Every Time She Blinked - Fortnite Streamers',\n",
       "       'I Donated $25,000 To Random Kids Streaming Fortnite',\n",
       "       'I Donated $30,000 To A Random Twitch Streamer (world record)',\n",
       "       'I Donated $30,000 To My Favorite Twitch Streamer (ninja)',\n",
       "       'I Donated $40,000 To A Random Twitch Fortnite Streamer (world record)',\n",
       "       'I Donated $50,000 To Ninja - Fortnite',\n",
       "       'I Dropped $20,000 From A Drone',\n",
       "       'I Filled My Brother’s House With Slime & Bought Him A New One',\n",
       "       'I Flew Using Only Balloons AND Leaf Blowers',\n",
       "       'I Gave $20,000 To People From An Ice Cream Truck',\n",
       "       'I Gave $20,000 To Random Homeless People',\n",
       "       'I Gave $200,000 To People Who Lost Their Jobs (Corona Virus)',\n",
       "       'I Gave $500,000 To Random People', 'I Gave A Homeless Man A Home',\n",
       "       'I Gave Him One Hour To Spend $100,000!',\n",
       "       'I Gave My 40,000,000th Subscriber 40 Cars',\n",
       "       'I Gave My 5,000,000th Subscriber 5,000,000 ______',\n",
       "       'I Gave My 6,000,000th Subscriber 6,000,000 ____',\n",
       "       'I Gave My Brother 24 Hours To Spend $100,000',\n",
       "       'I Gave My Credit Card To Random People',\n",
       "       'I Gave People $1,000,000 But ONLY 1 Minute To Spend It!',\n",
       "       'I Got Bored Of Studying So This Happened',\n",
       "       'I Got Hunted By A Real Bounty Hunter', 'I Got Hunted By The FBI',\n",
       "       'I Got Hunted By The Military',\n",
       "       'I Got Really Really Really Bored....', 'I Hate Pewdiepie!!!!!',\n",
       "       'I Hate Spam On Youtube', 'I Hate Youtubers That Ask For Likes',\n",
       "       'I Hope This Magic Trick Works', 'I Made Money Grow On Trees',\n",
       "       'I Mailed Myself IN A BOX & it REALLY WORKED! (Human Mail Challenge)',\n",
       "       'I Opened A FREE BANK', 'I Opened A Free Car Dealership',\n",
       "       'I Opened A Restaurant That Pays You To Eat At It',\n",
       "       \"I Opened The World's First FREE Store\",\n",
       "       'I Opened The World’s Cheapest Store',\n",
       "       'I Ordered Pizza And Tipped The House',\n",
       "       'I Put 1,000,000 Christmas Lights On A House (World Record)',\n",
       "       \"I Put 10 Million Legos in Friend's House\",\n",
       "       \"I Put 100 Million Orbeez In My Friend's Backyard\",\n",
       "       'I Put Millions Of Pennies In My Friends Backyard',\n",
       "       \"I Ran A Marathon In The World's Largest Shoes\",\n",
       "       \"I Searched 100 Dumpsters, Here's What I Found\",\n",
       "       'I Sold My House For $1',\n",
       "       'I Spent $1,000,000 On Lottery Tickets and WON',\n",
       "       'I Spent $100,000 On Lottery Tickets And Won!',\n",
       "       'I Spent $30,000 On Lottery Tickets And Won ____',\n",
       "       'I Spent $50,000 On Lottery Tickets And Won ____',\n",
       "       'I Spent 24 Hours In A Doomsday Bunker',\n",
       "       'I Spent 24 Hours Straight At Area 51',\n",
       "       'I Spent 24 Hours Straight In Insane Asylum',\n",
       "       'I Spent 24 Hours Straight In Prison - Challenge',\n",
       "       'I Spent 24 Hours Straight In Slime',\n",
       "       'I Spent 50 Hours Buried Alive',\n",
       "       'I Spent 50 Hours In Solitary Confinement',\n",
       "       'I Survived 24 Hours Straight In Ice',\n",
       "       'I Survived 50 Hours In A Maximum Security Prison',\n",
       "       'I Think I Am Going For The #KarnageRC',\n",
       "       'I Tipped Waitresses $20,000',\n",
       "       'I Took Apart My Friends Car And Put It In His Room',\n",
       "       'I Ubered Random People In A Tank',\n",
       "       'I Uber’d People And Let Them Keep The Car',\n",
       "       'I Went Back To 1st Grade For A Day',\n",
       "       'I Went Back To Boy Scouts For A Day',\n",
       "       'I Won Every Prize At A Theme Park', \"I'm Back! Update Video....\",\n",
       "       'IF ONLINE ADS WERE REAL',\n",
       "       \"IF YOU ONLY SEE ORANGE YOU'RE COLOR BLIND\",\n",
       "       'INSANE TRIPLE LEGENDARY SUPPLY DROP! BEST OPENING YET?',\n",
       "       'IT FINALLY CAME IN THE MAIL',\n",
       "       'If This Video Gets One Million Views.....',\n",
       "       'If You Can Carry $1,000,000 You Keep It!',\n",
       "       \"If You Click This Video I'll Give My Friend .001$\",\n",
       "       'If You Press This, I’ll Pay...',\n",
       "       'Important Youtube Announcement (please watch)', 'Impossible',\n",
       "       'In Dis Video I Play Minecraft. (Factions)',\n",
       "       'Increase Youtube Views 2015! COMMUNITY CHANNELS - Boosting Youtube Views',\n",
       "       'Insane Advanced Warfare Hacker!', 'Insane Black Ops 2 HACKER!!!!',\n",
       "       'Insane Gun Sync - 7 Hours To Make',\n",
       "       'Is Being A Youtuber Hard? Is Being A Youtuber Worth It?',\n",
       "       'Is Jacksepticeye A Millionaire?????? 2016',\n",
       "       'Is Michael Bay My Dad????????',\n",
       "       'Is Obama Dead? Dumb Google Searches!',\n",
       "       'Is Pewdiepie The #2 Youtuber?!?!?  :0',\n",
       "       'Knives In Video Games Cost More Than Real Life????',\n",
       "       'L0114R - Biblical Creeper Post for Post @L0114R',\n",
       "       'LISTENING TO OLD VOICEMAILS FOR THE FIRST TIME',\n",
       "       'Lamborghini Race, Winner Keeps Lamborghini',\n",
       "       'Last To Fall Wins $1,000,000 (Part 1)',\n",
       "       'Last To Leave $800,000 Island Keeps It',\n",
       "       'Last To Leave Circle Wins $10,000 - Challenge',\n",
       "       'Last To Leave Circle Wins $500,000',\n",
       "       'Last To Leave Pool Of $20,000 Keeps It',\n",
       "       'Last To Leave Ramen Noodle Pool Wins $20,000',\n",
       "       'Last To Leave Revolving Door Wins $50,000',\n",
       "       'Last To Leave Roller Coaster Wins $20,000 - Challenge',\n",
       "       'Last To Leave Slime Pit Wins $20,000 - Challenge',\n",
       "       'Last To Leave The Tesla, Keeps It Challenge',\n",
       "       'Last To Leave Toilet Wins $1,000,000 (Part 3)',\n",
       "       'Last To Leave VR Wins $20,000',\n",
       "       'Last To Remove Hand, Gets Lamborghini Challenge',\n",
       "       'Last To Stop Riding Bike Wins $1,000,000 (Part 4)',\n",
       "       'Last To Stop Running Wins $20,000',\n",
       "       'Last To Take Hand Off $1,000,000 Keeps It',\n",
       "       'Last To Take Hand Off Boat, Keeps It',\n",
       "       'Last To Take Hand Off House Keeps It!',\n",
       "       'Last To Take Hand Off Lamborghini, Keeps It',\n",
       "       'Last Youtuber To Leave Wins $100,000 - Challenge',\n",
       "       'Last to Stop Swinging Wins $1,000,000 (Part 2)',\n",
       "       'Leaving For 7 Days',\n",
       "       'Life Before And After Gamma (Insane) @GFuelEnergy',\n",
       "       'Life Hacks You Need To Know',\n",
       "       'Lottery Taxes - How Much Tax Is If You Win The Lottery',\n",
       "       \"Low Bridge Causes Dozen's Of Wrecks! 11-8 Bridge\",\n",
       "       'MY $1000 KEYBOARD CHANGED MY LIFE',\n",
       "       'MY MESSAGE TO COD YOUTUBERS (Watch till end plz)', 'Ma Channel',\n",
       "       'MageCraft - Beginners tutorial. (The app)',\n",
       "       'Magecraft - Epic Hit! 11k Troops killed.',\n",
       "       'Magic karp sweeps whole team of LEGENDARIES!!!',\n",
       "       'Make This Video The Most Liked Video On Youtube',\n",
       "       \"Making Fun Of Youtuber's Intros.\",\n",
       "       'Making My Background More Epic', 'Making Youtube a Priority',\n",
       "       'Marauder Builds, Battle Pirates In Depth Builds.',\n",
       "       'Markiplier Is A Great Man! Sub shodleech!',\n",
       "       'McDONALDS vs MRBEAST BURGER Food War! Taste Test Eating Challenge for 24 Hours by Spy Ninjas by Daniel Gizmo 10 months ago 20 minutes 9,287,398 views',\n",
       "       'Microwaving A Microwave',\n",
       "       'Microwaving A Microwave Microwaving A Toaster',\n",
       "       'Microwaving Dry Ice (Microwave Explodes)',\n",
       "       'Microwaving my iPhone, what happens next might shock you..',\n",
       "       'Milestones And Plans For My Channel', 'Millions Of Views!',\n",
       "       'Minecraft Build-off Fun!!!!!',\n",
       "       \"Minecraft Let's Play Ep. # 2 - Having Fun and Derping!\",\n",
       "       \"Minecraft Let's Play! Ep. 1. The Beginning!\",\n",
       "       'Minecraft Mansion Timelapse',\n",
       "       'Minecraft, How To Grief Without Being Seen!', 'Minimum Wage',\n",
       "       'Modern Art Is A Joke',\n",
       "       'Molten Lava Vs Giant Ice Block Experiment', 'Money Problems',\n",
       "       'More birds IN MINECRAFT!!',\n",
       "       'Most Epic Thing In Minecraft!?!?!?!?!?!!?????',\n",
       "       'Most Epic minecraft skin EVER  (Psy)',\n",
       "       'Most Overpowered Guns In Ghost!', 'Motivation',\n",
       "       'Motivation For Small Youtubers #3',\n",
       "       'Motivation For Small Youtubers #4 - Inspiration For Youtubers',\n",
       "       'Motivation For Youtube - Ultimate Small Youtuber Motivation #2',\n",
       "       'Motivation For Youtubers #5',\n",
       "       'Motivation For Youtubers #6 LAST ONE', 'Movie Trailers Be Like',\n",
       "       'Moving 10 Pounds Using ONLY Sound',\n",
       "       'MrBEAST BURGER Full Menu Challenge **DESTROYED** by Matt Stonie 10 months ago 8 minutes, 2 seconds 30,670,857 views',\n",
       "       'MrBeast Is Going Broke by Hunter Williams 4 weeks ago 8 minutes, 1 second 1,707,857 views',\n",
       "       'MrBeast Rest In Pepperoni 6000', \"MrBeast6000's Channel Trailer\",\n",
       "       \"MrBeast6000's First Video (So Bad lol)\", 'MrBeast6000Subs',\n",
       "       'MrBeast’s Outro Song', 'My Baby Got a Virus :(',\n",
       "       'My Favorite FaZe Clan Members?????', 'My First Kem Strike!',\n",
       "       'My Mom Found My Channel!! :0', 'My New Channel Trailer ;)',\n",
       "       'My Problems',\n",
       "       'My Solution For The Theft At The FaZe House - @FaZe_Rain @FaZeAdapt',\n",
       "       'My Top 5 Favorite Things At E3 2015',\n",
       "       'My Upload For ThunderstruckGaming',\n",
       "       'NBA Interviews Gone Wrong (No Gun Pulled)',\n",
       "       'New COD Zombies In 2014?????', 'New Channel?',\n",
       "       'New Optic Gaming Gear Coming To Advanced Warfare, My Thoughts',\n",
       "       'OMG! INSANE CUP FORT',\n",
       "       'Offering People $100,000 To Quit Their Job',\n",
       "       'Online pokemon battle #3 [uu] Ice punch',\n",
       "       'Online pokemon battle #7 [uu] 5-0', 'OpTiC NaDeShOt Got Hack!!',\n",
       "       'Opening Old Basketball Cards! Ep. #1 (Michael Jordan Found)',\n",
       "       'Ordering Water Then Tipping $30,000',\n",
       "       'Originality - A Youtube Poem By MrBeast6000',\n",
       "       'PC Master Race Vs Console Peasants', 'POKEMON GO STEREOTYPES',\n",
       "       'PSYCHO FRIEND SMASHES MY LAPTOP! (Mc Juggernuggets Parody)',\n",
       "       'Paid Promotion On Youtube Good?',\n",
       "       'Paying People $10,000 To Eat Ghost Pepper',\n",
       "       'People Who Got Rich From Movie Trailers On Youtube',\n",
       "       'PewDiePie Uploads A Fake Video! LOL', 'Pewdiepie Was On T.V.',\n",
       "       \"Pewdiepie's Shoutout, What Would You Do If You Won?\",\n",
       "       'Planting 20,000,000 Trees, My Biggest Project Ever!',\n",
       "       'Playing Battleship With Real Ships',\n",
       "       'Pokemon online battle #2 [uu] Herracross w/ Dat MOXIE BOOST',\n",
       "       'Pokemon online battle #4 [uu] Same old team',\n",
       "       'Pokemon online battle #8 Stone edge',\n",
       "       'Pokemon online battle #9 [rb] Hidden power ice ftw!',\n",
       "       'Pokemon online battles #5 [uu] Heracross never seems to dissapoint me...',\n",
       "       'Pranks That Went Horribly Wrong',\n",
       "       'Press This Button To Win $100,000!',\n",
       "       \"Project Zomboid Let's Play ep [04] lots of stuff\",\n",
       "       \"Project Zomboid Let's Play ep. [03] Looting and storing.\",\n",
       "       'Project Zomboid Lets Play ep [01] Roughing it out!',\n",
       "       \"Project Zomboid let's play ep. [02] Just some chores.\",\n",
       "       'Pulling Cars Over Using A Toy Police Car', 'Quitting?',\n",
       "       'REACTING TO MY OLD MINECRAFT VIDEOS (HORRIBLE)',\n",
       "       \"Random Stuff You Don't Care About\", 'Randomness',\n",
       "       \"Reacting To Family Accounts (MamaBeast, MrBeast'sLaptop, Etc)\",\n",
       "       'Reacting To The Reaction Of The Reaction To The Reaction Of The Reaction Of The Reaction To The Reac',\n",
       "       'Reaction Channels Are Stupid??????? #JCTG',\n",
       "       'Reading The Entire Bee Movie Script But Everytime They Say \"Bee\" I Repeat All the Previous Bees',\n",
       "       'Reading The Longest English Word (190,000 Characters)',\n",
       "       'Reading The Youtube Terms Of Service',\n",
       "       'Reddit Is In Chaos After Firing Victoria', 'Reenacting Youtubers',\n",
       "       'Remember When COD Was Fun?',\n",
       "       'Returning Destroyed Rental Cars Prank',\n",
       "       'Reuploading Other Youtubers Videos? Stealing Big Youtubers Videos.',\n",
       "       'Rocket League In Real Life!', 'SAT And Some Random Stuff',\n",
       "       'SELLING ORGANS FOR $1,000,000',\n",
       "       'STUPIDEST PERSN ON EART (Really Dumb)',\n",
       "       'SURPRISING MY BROTHER WITH A LAPTOP', 'Sacrifices And Youtube',\n",
       "       'Savage Level 9000', 'Saying \"Keep Net Neutrality\" For 10 Hours',\n",
       "       'Saying Logan Paul 100,000 Times',\n",
       "       'Saying Pewdiepie 100,000 Times', 'Scary minecraft pig skin!',\n",
       "       'Scheduled Uploaded 6 Months Ago (REACTION)',\n",
       "       'School Is A Waste Of Time', 'Screw Warface',\n",
       "       'Selling PS4 For $250 + Elgato For $100!',\n",
       "       'Shark Tank Most Successful Products, Entrepreneurs, Or Businesses 2015',\n",
       "       'Shia Labeouf Motivates Youtubers!',\n",
       "       'Should College Athletes Be Paid?????',\n",
       "       'Should I Buy An Elgato Game Capture??', 'Should I join FaZe?????',\n",
       "       'Should You Do COD Commentaries In 2016????',\n",
       "       'Should You Play Video Games?', 'Social Media As A Job????',\n",
       "       'Spam404 Has Terminated 5,000,000 Videos (Including Pewdiepie)',\n",
       "       'Spend 278 Days To Build A Dream Water Park by Mr.Heang Update 5 months ago 18 minutes 91,481,481 views',\n",
       "       'Spending $1,000,000 In 24 Hours',\n",
       "       'Spending $40,000 In One Hour Challenge',\n",
       "       'Spending 24 Hours In A City With No Laws',\n",
       "       'Spending 24 Hours On Top Of A Mountain',\n",
       "       'Spending 24 Hours Straight Under Water Challenge',\n",
       "       'SpiderMan Robs Walmart?????',\n",
       "       'Standing Still For 24 Hours Straight - Statue Challenge',\n",
       "       'Steal This $100,000 Diamond, You Keep It', 'Storm', 'Story time!',\n",
       "       'Struggles Of Being A Youtuber',\n",
       "       'Stupid Things People Search On Google',\n",
       "       'Subscriber Goals For 2016', 'Subscriber Goals For 2017',\n",
       "       'Subscribers.', 'Summer Is Finally Here!',\n",
       "       'Super Bowl Commercial 2016 Cost - How Much Does A Commercial Cost In 2016 Super Bowl?',\n",
       "       'Supply Drop Challenge For Charity',\n",
       "       'Supply Drops For Charity! Ep #2',\n",
       "       'Surprising My 8,000,000th Subscriber With 8,000,000 ___',\n",
       "       'Surprising My Girlfriend With 100,000 Roses For Valentines Day',\n",
       "       'Surprising Strangers With 100 Zombies - Experiment',\n",
       "       'Surprising TFue With A Fortnite Battle Bus In Real Life',\n",
       "       'Surprising Tfue With $10,000 Live - Fortnite',\n",
       "       'Surviving 24 Hours On A Deserted Island',\n",
       "       'Surviving 24 Hours Straight In A Desert',\n",
       "       'Surviving 24 Hours Straight In A Rain Forest',\n",
       "       'Surviving 24 Hours Straight In The Bermuda Triangle',\n",
       "       'THE WORST SONG ON YOUTUBE *CRINGE*',\n",
       "       'THE WORST THINGS EVER TO EXIST', 'THINGS I HATE #1',\n",
       "       'TWITCH STREAMERS REACT TO RECEIVING THOUSANDS FROM SAME GUY!',\n",
       "       'The Anti-Beast (R.I.P. Beast)',\n",
       "       'The COD Community? Sleeping With Your Mom?',\n",
       "       'The Dreaded Unanswerable Question',\n",
       "       'The Evolution Of My Youtube Banners',\n",
       "       'The History Of Pewdiepie In 2 Minutes',\n",
       "       'The Real Way Dinosaurs Went Extinct',\n",
       "       'The Truth About Big Community Channels',\n",
       "       'The Ultimate Motivation For Small Youtubers',\n",
       "       'The Vortex SMP Episode 1! Just Derping Around and Explaining Things.',\n",
       "       'These Were The Good Days....',\n",
       "       'Things I Hate #2 - Youtube Edition',\n",
       "       \"Things That SHOULDN'T Be Sold On Amazon\",\n",
       "       'This Kid Should Quit COD....', 'This is a block? Since when lol.',\n",
       "       'This is a detailed break down of my favorite UU team... ENJOY!',\n",
       "       'Time', 'Tipping Pizza Delivery Guys $10,000',\n",
       "       'Tipping Uber Drivers $10,000',\n",
       "       'Tipping Waitresses With Real Gold Bars',\n",
       "       'Toothpaste Life Hacks YOU SHOULD KNOW',\n",
       "       'Top 10 Richest Gaming Youtubers?????',\n",
       "       'Top 10 Worst Guns in Call Of Duty History!',\n",
       "       'Top 5 NON-COPYRIGHTED Songs!!!!!',\n",
       "       'Top Subscribed To Channels? BO2 w/ commentary!',\n",
       "       'Top Youtube \"ShoutOuts\"',\n",
       "       'Totally 100% Real Epic Ping Pong Trickshots',\n",
       "       'Trying To Fly Using Only Leaf Blowers', 'Two Years of Youtube.',\n",
       "       'Tying My Shoes In Every State (World Record)', 'Update',\n",
       "       'VANOSSGAMING IS IN TROUBLE', 'Vanoss vs Speedy! Which is better?',\n",
       "       'Vanoss vs Speedy! Who is better? Updated.',\n",
       "       'Videos I Could Not Upload...', 'WHERE IS MY COOKIE?????',\n",
       "       'WHY DO THEY SELL THIS ON AMAZON?',\n",
       "       \"WORLD'S FIRST BLACK OPS 3 GUN SYNC!!\",\n",
       "       'WORST BANNERS ON YOUTUBE #1',\n",
       "       'WORST MEMES AND TRENDS ON YOUTUBE!',\n",
       "       'WORST REVIEWS ON AMAZON #2 HOW IS THIS LEGAL?',\n",
       "       'WORST REVIEWS ON AMAZON #4 *FUNNY*',\n",
       "       'WORST THUMBNAILS ON YOUTUBE', 'WORST THUMBNAILS ON YOUTUBE #3',\n",
       "       'Walking Dead Daryl DIED (Fan Reaction To Death)',\n",
       "       'Walking Into Random Stores With 100 Dinosaurs',\n",
       "       'Walking Up To Random People With 100 StormTroopers',\n",
       "       \"Watching Dance Till You're Dead For 10 Hours\",\n",
       "       \"Watching It's Everyday Bro For 10 Hours Straight\",\n",
       "       'Watching Video Games Is A Waste Of Time????',\n",
       "       'We Are Better Than Dude Perfect',\n",
       "       'We Delivered 100 Pizzas To Random Houses',\n",
       "       \"We Drove 3,000 Miles For The World's Best Burger\",\n",
       "       'Welcome To My Channel!',\n",
       "       'What Actually Happens When You Click On Spam Ads',\n",
       "       'What Can You Cut With Paper?',\n",
       "       'What Happens If You Get A Copy Right Strike??',\n",
       "       'What Is Considered A \"Bad Video\" On Youtube????? #karnageRC',\n",
       "       'What Is Crohns Disease?????', 'What Is Spam404?????',\n",
       "       'What Is Swatting? Why I hate It!',\n",
       "       'What Is Yanet Actually Thinking?????',\n",
       "       'What Is Youtube Red? Should I Buy Youtube Red?',\n",
       "       'What Is Youtube Terms Of Service?????',\n",
       "       'What It Takes To Be A Full Time Youtuber...',\n",
       "       \"What is Crohn's Disease?????\", 'Whats That Song Name?',\n",
       "       'Who Are The Worst Youtubers?????',\n",
       "       'Who Founded Faze? Who Created Faze Clan?',\n",
       "       'Why Are Things Unbalanced In Video Games?????',\n",
       "       'Why Do We Do Things That Are Bad For Us?????',\n",
       "       'Why Do Youtubers Ask For Likes?',\n",
       "       'Why Does This Video Have No Thumbnail?',\n",
       "       'Why Google Does Not Care What We Think....',\n",
       "       'Why I Changed My Channel Name', \"Why I Haven't Been Uploading\",\n",
       "       'Why I Haven’t Been Uploading',\n",
       "       'Why I Sold My PS4, Not A Gaming Channel???',\n",
       "       'Why I Stopped Playing Video Games - Video Game Commentary',\n",
       "       'Why I Was Not Uploading', \"Why I deleted Today's First Upload\",\n",
       "       'Winning A Game Of Fortnite In The Middle Of The Ocean',\n",
       "       \"World's Hottest Substance Vs Coldest Substance\",\n",
       "       \"World's Largest Bowl Of Cereal\",\n",
       "       \"World's Largest Game Of Dodgeball\",\n",
       "       \"World's Most Viewed TikToks! by Beast Reacts 3 weeks ago 8 minutes, 23 seconds 17,819,663 views\",\n",
       "       \"World's Worst Thieves\",\n",
       "       'Worlds Biggest Ball Of TNT Minecraft!  Challenge Video!',\n",
       "       'Worst Minecraft Saw Trap Ever???',\n",
       "       'Worst MrBeast6000 Intros?? (Fan Made!)',\n",
       "       'Worst Reviews On Amazon #1 (Minecraft Edition)',\n",
       "       'Worst Thumbnails On Youtube #2 - Cringe',\n",
       "       'Would YOU Quit School For $100,000?',\n",
       "       'Would YOU Rather Have A Lamborghini or This House?',\n",
       "       'Would You Rather Have $100,000 OR This Mystery Key?',\n",
       "       'Would You Rather Have A Giant Diamond or $100,000?',\n",
       "       'Would You Sit In Snakes For $10,000?',\n",
       "       'Xbox One Destroyer? COD Advertisement Is Free',\n",
       "       'YOU ONLY DO YOUTUBE FOR VIEWS',\n",
       "       'YOUTUBE RED STEALS CONTENT CREATORS MONEY? What Is Youtube Red?',\n",
       "       'You Pick The Right Cup, You Win $100,000!', 'Youtube',\n",
       "       'Youtube \"Freinds\"', 'Youtube Collabs? Collabbing with Mr.Beast?',\n",
       "       'Youtube Dream', 'Youtube Grind', 'Youtube In 10 Years?????',\n",
       "       'Youtube Networking - Aka Fake Likes, Subs, And Comments',\n",
       "       'Youtube Networks Requirerments. (Machinima, TGN, 8byte....)',\n",
       "       \"Youtube Rewind 2020, Thank God It's Over\",\n",
       "       'Youtube Stat News - Vevo Gets 10 Bil. Views A Month, Channel Milestones, and more!',\n",
       "       'Youtube ad.', \"Youtubers Analytic's Explained\",\n",
       "       'Yup I is the best at the game.', \"i'm really sorry\",\n",
       "       'we are number one but every one is a bad intro'], dtype=object)"
      ]
     },
     "execution_count": 16,
     "metadata": {},
     "output_type": "execute_result"
    }
   ],
   "source": [
    "title = data[\"title\"]\n",
    "np.unique(title)"
   ]
  },
  {
   "cell_type": "code",
   "execution_count": 17,
   "id": "hybrid-university",
   "metadata": {},
   "outputs": [
    {
     "data": {
      "text/plain": [
       "721"
      ]
     },
     "execution_count": 17,
     "metadata": {},
     "output_type": "execute_result"
    }
   ],
   "source": [
    "len(np.unique(title))"
   ]
  },
  {
   "cell_type": "code",
   "execution_count": 20,
   "id": "peripheral-agriculture",
   "metadata": {},
   "outputs": [
    {
     "ename": "TypeError",
     "evalue": "bar() missing 2 required positional arguments: 'x' and 'height'",
     "output_type": "error",
     "traceback": [
      "\u001b[0;31m---------------------------------------------------------------------------\u001b[0m",
      "\u001b[0;31mTypeError\u001b[0m                                 Traceback (most recent call last)",
      "\u001b[0;32m/tmp/ipykernel_36464/1101824255.py\u001b[0m in \u001b[0;36m<module>\u001b[0;34m\u001b[0m\n\u001b[0;32m----> 1\u001b[0;31m \u001b[0mtitle\u001b[0m\u001b[0;34m.\u001b[0m\u001b[0mvalue_counts\u001b[0m\u001b[0;34m(\u001b[0m\u001b[0;34m)\u001b[0m\u001b[0;34m.\u001b[0m\u001b[0mplot\u001b[0m\u001b[0;34m(\u001b[0m\u001b[0;34m)\u001b[0m\u001b[0;34m.\u001b[0m\u001b[0mbar\u001b[0m\u001b[0;34m(\u001b[0m\u001b[0mfigsize\u001b[0m\u001b[0;34m=\u001b[0m\u001b[0;34m(\u001b[0m\u001b[0;36m20\u001b[0m\u001b[0;34m,\u001b[0m \u001b[0;36m10\u001b[0m\u001b[0;34m)\u001b[0m\u001b[0;34m)\u001b[0m\u001b[0;34m\u001b[0m\u001b[0;34m\u001b[0m\u001b[0m\n\u001b[0m",
      "\u001b[0;32m/usr/lib/python3/dist-packages/matplotlib/__init__.py\u001b[0m in \u001b[0;36minner\u001b[0;34m(ax, data, *args, **kwargs)\u001b[0m\n\u001b[1;32m   1447\u001b[0m     \u001b[0;32mdef\u001b[0m \u001b[0minner\u001b[0m\u001b[0;34m(\u001b[0m\u001b[0max\u001b[0m\u001b[0;34m,\u001b[0m \u001b[0;34m*\u001b[0m\u001b[0margs\u001b[0m\u001b[0;34m,\u001b[0m \u001b[0mdata\u001b[0m\u001b[0;34m=\u001b[0m\u001b[0;32mNone\u001b[0m\u001b[0;34m,\u001b[0m \u001b[0;34m**\u001b[0m\u001b[0mkwargs\u001b[0m\u001b[0;34m)\u001b[0m\u001b[0;34m:\u001b[0m\u001b[0;34m\u001b[0m\u001b[0;34m\u001b[0m\u001b[0m\n\u001b[1;32m   1448\u001b[0m         \u001b[0;32mif\u001b[0m \u001b[0mdata\u001b[0m \u001b[0;32mis\u001b[0m \u001b[0;32mNone\u001b[0m\u001b[0;34m:\u001b[0m\u001b[0;34m\u001b[0m\u001b[0;34m\u001b[0m\u001b[0m\n\u001b[0;32m-> 1449\u001b[0;31m             \u001b[0;32mreturn\u001b[0m \u001b[0mfunc\u001b[0m\u001b[0;34m(\u001b[0m\u001b[0max\u001b[0m\u001b[0;34m,\u001b[0m \u001b[0;34m*\u001b[0m\u001b[0mmap\u001b[0m\u001b[0;34m(\u001b[0m\u001b[0msanitize_sequence\u001b[0m\u001b[0;34m,\u001b[0m \u001b[0margs\u001b[0m\u001b[0;34m)\u001b[0m\u001b[0;34m,\u001b[0m \u001b[0;34m**\u001b[0m\u001b[0mkwargs\u001b[0m\u001b[0;34m)\u001b[0m\u001b[0;34m\u001b[0m\u001b[0;34m\u001b[0m\u001b[0m\n\u001b[0m\u001b[1;32m   1450\u001b[0m \u001b[0;34m\u001b[0m\u001b[0m\n\u001b[1;32m   1451\u001b[0m         \u001b[0mbound\u001b[0m \u001b[0;34m=\u001b[0m \u001b[0mnew_sig\u001b[0m\u001b[0;34m.\u001b[0m\u001b[0mbind\u001b[0m\u001b[0;34m(\u001b[0m\u001b[0max\u001b[0m\u001b[0;34m,\u001b[0m \u001b[0;34m*\u001b[0m\u001b[0margs\u001b[0m\u001b[0;34m,\u001b[0m \u001b[0;34m**\u001b[0m\u001b[0mkwargs\u001b[0m\u001b[0;34m)\u001b[0m\u001b[0;34m\u001b[0m\u001b[0;34m\u001b[0m\u001b[0m\n",
      "\u001b[0;31mTypeError\u001b[0m: bar() missing 2 required positional arguments: 'x' and 'height'"
     ]
    },
    {
     "data": {
      "image/png": "[encoded data removed]",
      "text/plain": [
       "<Figure size 432x288 with 1 Axes>"
      ]
     },
     "metadata": {
      "needs_background": "light"
     },
     "output_type": "display_data"
    }
   ],
   "source": [
    "title.value_counts().plot().bar(figsize=(20, 10))"
   ]
  },
  {
   "cell_type": "code",
   "execution_count": 25,
   "id": "distributed-domain",
   "metadata": {},
   "outputs": [
    {
     "data": {
      "text/plain": [
       "<AxesSubplot:>"
      ]
     },
     "execution_count": 25,
     "metadata": {},
     "output_type": "execute_result"
    },
    {
     "data": {
      "image/png": "[encoded data removed]",
      "text/plain": [
       "<Figure size 2880x720 with 1 Axes>"
      ]
     },
     "metadata": {
      "needs_background": "light"
     },
     "output_type": "display_data"
    }
   ],
   "source": [
    "data[\"title\"].value_counts().plot.line(figsize=(40, 10))"
   ]
  },
  {
   "cell_type": "code",
   "execution_count": 26,
   "id": "published-james",
   "metadata": {},
   "outputs": [
    {
     "name": "stdout",
     "output_type": "stream",
     "text": [
      "<class 'pandas.core.frame.DataFrame'>\n",
      "RangeIndex: 744 entries, 0 to 743\n",
      "Data columns (total 15 columns):\n",
      " #   Column               Non-Null Count  Dtype  \n",
      "---  ------               --------------  -----  \n",
      " 0   video_id             744 non-null    object \n",
      " 1   title                744 non-null    object \n",
      " 2   active_since_days    744 non-null    int64  \n",
      " 3   duration_seconds     744 non-null    int64  \n",
      " 4   total_views          744 non-null    int64  \n",
      " 5   num_chars            744 non-null    int64  \n",
      " 6   num_words            744 non-null    int64  \n",
      " 7   num_punctuation      744 non-null    int64  \n",
      " 8   num_words_uppercase  744 non-null    int64  \n",
      " 9   num_words_lowercase  744 non-null    int64  \n",
      " 10  num_stopwords        744 non-null    int64  \n",
      " 11  avg_word_len         744 non-null    float64\n",
      " 12  contain_digits       744 non-null    int64  \n",
      " 13  startswith_digits    744 non-null    int64  \n",
      " 14  title_sentiment      744 non-null    float64\n",
      "dtypes: float64(2), int64(11), object(2)\n",
      "memory usage: 87.3+ KB\n"
     ]
    }
   ],
   "source": [
    "data.info()"
   ]
  },
  {
   "cell_type": "code",
   "execution_count": 30,
   "id": "graduate-bobby",
   "metadata": {},
   "outputs": [
    {
     "ename": "SyntaxError",
     "evalue": "invalid syntax (2546705190.py, line 1)",
     "output_type": "error",
     "traceback": [
      "\u001b[0;36m  File \u001b[0;32m\"/tmp/ipykernel_36464/2546705190.py\"\u001b[0;36m, line \u001b[0;32m1\u001b[0m\n\u001b[0;31m    y = data[\"total_views\", axis=True]\u001b[0m\n\u001b[0m                                ^\u001b[0m\n\u001b[0;31mSyntaxError\u001b[0m\u001b[0;31m:\u001b[0m invalid syntax\n"
     ]
    }
   ],
   "source": [
    "y = data[\"total_views\", axis=True]"
   ]
  },
  {
   "cell_type": "code",
   "execution_count": 33,
   "id": "restricted-cassette",
   "metadata": {},
   "outputs": [],
   "source": [
    "x = data.drop([\"total_views\"], axis=True)"
   ]
  },
  {
   "cell_type": "code",
   "execution_count": 34,
   "id": "expired-performer",
   "metadata": {},
   "outputs": [
    {
     "data": {
      "text/html": [
       "<div>\n",
       "<style scoped>\n",
       "    .dataframe tbody tr th:only-of-type {\n",
       "        vertical-align: middle;\n",
       "    }\n",
       "\n",
       "    .dataframe tbody tr th {\n",
       "        vertical-align: top;\n",
       "    }\n",
       "\n",
       "    .dataframe thead th {\n",
       "        text-align: right;\n",
       "    }\n",
       "</style>\n",
       "<table border=\"1\" class=\"dataframe\">\n",
       "  <thead>\n",
       "    <tr style=\"text-align: right;\">\n",
       "      <th></th>\n",
       "      <th>video_id</th>\n",
       "      <th>title</th>\n",
       "      <th>active_since_days</th>\n",
       "      <th>duration_seconds</th>\n",
       "      <th>num_chars</th>\n",
       "      <th>num_words</th>\n",
       "      <th>num_punctuation</th>\n",
       "      <th>num_words_uppercase</th>\n",
       "      <th>num_words_lowercase</th>\n",
       "      <th>num_stopwords</th>\n",
       "      <th>avg_word_len</th>\n",
       "      <th>contain_digits</th>\n",
       "      <th>startswith_digits</th>\n",
       "      <th>title_sentiment</th>\n",
       "    </tr>\n",
       "  </thead>\n",
       "  <tbody>\n",
       "    <tr>\n",
       "      <th>0</th>\n",
       "      <td>v=QbJJwaVdgIs</td>\n",
       "      <td>I Got Hunted By The Military</td>\n",
       "      <td>4</td>\n",
       "      <td>662</td>\n",
       "      <td>28</td>\n",
       "      <td>6</td>\n",
       "      <td>0</td>\n",
       "      <td>1</td>\n",
       "      <td>0</td>\n",
       "      <td>3</td>\n",
       "      <td>4.666667</td>\n",
       "      <td>0</td>\n",
       "      <td>0</td>\n",
       "      <td>-0.100000</td>\n",
       "    </tr>\n",
       "    <tr>\n",
       "      <th>1</th>\n",
       "      <td>v=0e3GPea1Tyg</td>\n",
       "      <td>$456,000 Squid Game In Real Life!</td>\n",
       "      <td>10</td>\n",
       "      <td>1500</td>\n",
       "      <td>33</td>\n",
       "      <td>6</td>\n",
       "      <td>3</td>\n",
       "      <td>0</td>\n",
       "      <td>0</td>\n",
       "      <td>1</td>\n",
       "      <td>5.500000</td>\n",
       "      <td>1</td>\n",
       "      <td>1</td>\n",
       "      <td>-0.075000</td>\n",
       "    </tr>\n",
       "    <tr>\n",
       "      <th>2</th>\n",
       "      <td>v=LeYsRMZFUq0</td>\n",
       "      <td>I Gave People $1,000,000 But ONLY 1 Minute To ...</td>\n",
       "      <td>330</td>\n",
       "      <td>858</td>\n",
       "      <td>55</td>\n",
       "      <td>11</td>\n",
       "      <td>4</td>\n",
       "      <td>2</td>\n",
       "      <td>0</td>\n",
       "      <td>4</td>\n",
       "      <td>5.000000</td>\n",
       "      <td>1</td>\n",
       "      <td>0</td>\n",
       "      <td>0.000000</td>\n",
       "    </tr>\n",
       "    <tr>\n",
       "      <th>3</th>\n",
       "      <td>v=qIsgdOVGA04</td>\n",
       "      <td>Last To Take Hand Off Lamborghini, Keeps It</td>\n",
       "      <td>30</td>\n",
       "      <td>900</td>\n",
       "      <td>43</td>\n",
       "      <td>8</td>\n",
       "      <td>1</td>\n",
       "      <td>0</td>\n",
       "      <td>0</td>\n",
       "      <td>3</td>\n",
       "      <td>5.375000</td>\n",
       "      <td>0</td>\n",
       "      <td>0</td>\n",
       "      <td>0.000000</td>\n",
       "    </tr>\n",
       "    <tr>\n",
       "      <th>4</th>\n",
       "      <td>v=zxYjTTXc-J8</td>\n",
       "      <td>Last To Leave Circle Wins $500,000</td>\n",
       "      <td>90</td>\n",
       "      <td>1140</td>\n",
       "      <td>34</td>\n",
       "      <td>6</td>\n",
       "      <td>2</td>\n",
       "      <td>0</td>\n",
       "      <td>0</td>\n",
       "      <td>1</td>\n",
       "      <td>5.666667</td>\n",
       "      <td>1</td>\n",
       "      <td>0</td>\n",
       "      <td>0.150000</td>\n",
       "    </tr>\n",
       "    <tr>\n",
       "      <th>...</th>\n",
       "      <td>...</td>\n",
       "      <td>...</td>\n",
       "      <td>...</td>\n",
       "      <td>...</td>\n",
       "      <td>...</td>\n",
       "      <td>...</td>\n",
       "      <td>...</td>\n",
       "      <td>...</td>\n",
       "      <td>...</td>\n",
       "      <td>...</td>\n",
       "      <td>...</td>\n",
       "      <td>...</td>\n",
       "      <td>...</td>\n",
       "      <td>...</td>\n",
       "    </tr>\n",
       "    <tr>\n",
       "      <th>739</th>\n",
       "      <td>v=7qj3nuF9Dzw</td>\n",
       "      <td>Most Epic minecraft skin EVER  (Psy)</td>\n",
       "      <td>2920</td>\n",
       "      <td>30</td>\n",
       "      <td>36</td>\n",
       "      <td>6</td>\n",
       "      <td>2</td>\n",
       "      <td>1</td>\n",
       "      <td>2</td>\n",
       "      <td>1</td>\n",
       "      <td>6.000000</td>\n",
       "      <td>0</td>\n",
       "      <td>0</td>\n",
       "      <td>0.300000</td>\n",
       "    </tr>\n",
       "    <tr>\n",
       "      <th>740</th>\n",
       "      <td>v=Y74b7WlcEpk</td>\n",
       "      <td>More birds IN MINECRAFT!!</td>\n",
       "      <td>2920</td>\n",
       "      <td>126</td>\n",
       "      <td>25</td>\n",
       "      <td>4</td>\n",
       "      <td>2</td>\n",
       "      <td>2</td>\n",
       "      <td>1</td>\n",
       "      <td>2</td>\n",
       "      <td>6.250000</td>\n",
       "      <td>0</td>\n",
       "      <td>0</td>\n",
       "      <td>0.781250</td>\n",
       "    </tr>\n",
       "    <tr>\n",
       "      <th>741</th>\n",
       "      <td>v=Z8nEEdXTaX0</td>\n",
       "      <td>Boxy item mod Minecraft.  EPIC</td>\n",
       "      <td>2920</td>\n",
       "      <td>90</td>\n",
       "      <td>30</td>\n",
       "      <td>5</td>\n",
       "      <td>1</td>\n",
       "      <td>1</td>\n",
       "      <td>2</td>\n",
       "      <td>0</td>\n",
       "      <td>6.000000</td>\n",
       "      <td>0</td>\n",
       "      <td>0</td>\n",
       "      <td>0.150000</td>\n",
       "    </tr>\n",
       "    <tr>\n",
       "      <th>742</th>\n",
       "      <td>v=jP82d277Cc8</td>\n",
       "      <td>Harry Potter Mod In Minecraft! EPIC MUST SEE M...</td>\n",
       "      <td>3285</td>\n",
       "      <td>239</td>\n",
       "      <td>51</td>\n",
       "      <td>9</td>\n",
       "      <td>4</td>\n",
       "      <td>4</td>\n",
       "      <td>0</td>\n",
       "      <td>1</td>\n",
       "      <td>5.666667</td>\n",
       "      <td>0</td>\n",
       "      <td>0</td>\n",
       "      <td>0.246875</td>\n",
       "    </tr>\n",
       "    <tr>\n",
       "      <th>743</th>\n",
       "      <td>v=2XVcLrB7B3Y</td>\n",
       "      <td>Worst Minecraft Saw Trap Ever???</td>\n",
       "      <td>3285</td>\n",
       "      <td>157</td>\n",
       "      <td>32</td>\n",
       "      <td>5</td>\n",
       "      <td>3</td>\n",
       "      <td>0</td>\n",
       "      <td>0</td>\n",
       "      <td>0</td>\n",
       "      <td>6.400000</td>\n",
       "      <td>0</td>\n",
       "      <td>0</td>\n",
       "      <td>-1.000000</td>\n",
       "    </tr>\n",
       "  </tbody>\n",
       "</table>\n",
       "<p>744 rows × 14 columns</p>\n",
       "</div>"
      ],
      "text/plain": [
       "          video_id                                              title  \\\n",
       "0    v=QbJJwaVdgIs                       I Got Hunted By The Military   \n",
       "1    v=0e3GPea1Tyg                  $456,000 Squid Game In Real Life!   \n",
       "2    v=LeYsRMZFUq0  I Gave People $1,000,000 But ONLY 1 Minute To ...   \n",
       "3    v=qIsgdOVGA04        Last To Take Hand Off Lamborghini, Keeps It   \n",
       "4    v=zxYjTTXc-J8                 Last To Leave Circle Wins $500,000   \n",
       "..             ...                                                ...   \n",
       "739  v=7qj3nuF9Dzw               Most Epic minecraft skin EVER  (Psy)   \n",
       "740  v=Y74b7WlcEpk                          More birds IN MINECRAFT!!   \n",
       "741  v=Z8nEEdXTaX0                     Boxy item mod Minecraft.  EPIC   \n",
       "742  v=jP82d277Cc8  Harry Potter Mod In Minecraft! EPIC MUST SEE M...   \n",
       "743  v=2XVcLrB7B3Y                   Worst Minecraft Saw Trap Ever???   \n",
       "\n",
       "     active_since_days  duration_seconds  num_chars  num_words  \\\n",
       "0                    4               662         28          6   \n",
       "1                   10              1500         33          6   \n",
       "2                  330               858         55         11   \n",
       "3                   30               900         43          8   \n",
       "4                   90              1140         34          6   \n",
       "..                 ...               ...        ...        ...   \n",
       "739               2920                30         36          6   \n",
       "740               2920               126         25          4   \n",
       "741               2920                90         30          5   \n",
       "742               3285               239         51          9   \n",
       "743               3285               157         32          5   \n",
       "\n",
       "     num_punctuation  num_words_uppercase  num_words_lowercase  num_stopwords  \\\n",
       "0                  0                    1                    0              3   \n",
       "1                  3                    0                    0              1   \n",
       "2                  4                    2                    0              4   \n",
       "3                  1                    0                    0              3   \n",
       "4                  2                    0                    0              1   \n",
       "..               ...                  ...                  ...            ...   \n",
       "739                2                    1                    2              1   \n",
       "740                2                    2                    1              2   \n",
       "741                1                    1                    2              0   \n",
       "742                4                    4                    0              1   \n",
       "743                3                    0                    0              0   \n",
       "\n",
       "     avg_word_len  contain_digits  startswith_digits  title_sentiment  \n",
       "0        4.666667               0                  0        -0.100000  \n",
       "1        5.500000               1                  1        -0.075000  \n",
       "2        5.000000               1                  0         0.000000  \n",
       "3        5.375000               0                  0         0.000000  \n",
       "4        5.666667               1                  0         0.150000  \n",
       "..            ...             ...                ...              ...  \n",
       "739      6.000000               0                  0         0.300000  \n",
       "740      6.250000               0                  0         0.781250  \n",
       "741      6.000000               0                  0         0.150000  \n",
       "742      5.666667               0                  0         0.246875  \n",
       "743      6.400000               0                  0        -1.000000  \n",
       "\n",
       "[744 rows x 14 columns]"
      ]
     },
     "execution_count": 34,
     "metadata": {},
     "output_type": "execute_result"
    }
   ],
   "source": [
    "x"
   ]
  },
  {
   "cell_type": "code",
   "execution_count": 35,
   "id": "august-catalog",
   "metadata": {},
   "outputs": [],
   "source": [
    "y = data[\"total_views\"]"
   ]
  },
  {
   "cell_type": "code",
   "execution_count": 36,
   "id": "iraqi-examination",
   "metadata": {},
   "outputs": [
    {
     "data": {
      "text/plain": [
       "(744, 744)"
      ]
     },
     "execution_count": 36,
     "metadata": {},
     "output_type": "execute_result"
    }
   ],
   "source": [
    "len(x), len(y)"
   ]
  },
  {
   "cell_type": "code",
   "execution_count": null,
   "id": "fancy-ministry",
   "metadata": {},
   "outputs": [],
   "source": []
  },
  {
   "cell_type": "code",
   "execution_count": 37,
   "id": "distinguished-maximum",
   "metadata": {},
   "outputs": [],
   "source": [
    "# create train and test datasets\n",
    "\n",
    "# defining the random seed\n",
    "np.random.seed(43)\n",
    "\n",
    "x_train, x_test, y_train, y_test = train_test_split(x, y, test_size=0.2)"
   ]
  },
  {
   "cell_type": "code",
   "execution_count": 38,
   "id": "twenty-myrtle",
   "metadata": {},
   "outputs": [
    {
     "data": {
      "text/plain": [
       "(595, 595)"
      ]
     },
     "execution_count": 38,
     "metadata": {},
     "output_type": "execute_result"
    }
   ],
   "source": [
    "len(x_train), len(y_train)"
   ]
  },
  {
   "cell_type": "code",
   "execution_count": 39,
   "id": "intellectual-growth",
   "metadata": {},
   "outputs": [
    {
     "ename": "ValueError",
     "evalue": "could not convert string to float: 'v=IDrS_TrjuK4'",
     "output_type": "error",
     "traceback": [
      "\u001b[0;31m---------------------------------------------------------------------------\u001b[0m",
      "\u001b[0;31mValueError\u001b[0m                                Traceback (most recent call last)",
      "\u001b[0;32m/tmp/ipykernel_36464/3602715092.py\u001b[0m in \u001b[0;36m<module>\u001b[0;34m\u001b[0m\n\u001b[1;32m      1\u001b[0m \u001b[0;32mfrom\u001b[0m \u001b[0msklearn\u001b[0m\u001b[0;34m.\u001b[0m\u001b[0mpreprocessing\u001b[0m \u001b[0;32mimport\u001b[0m \u001b[0mStandardScaler\u001b[0m\u001b[0;34m\u001b[0m\u001b[0;34m\u001b[0m\u001b[0m\n\u001b[1;32m      2\u001b[0m \u001b[0mscaler\u001b[0m \u001b[0;34m=\u001b[0m \u001b[0mStandardScaler\u001b[0m\u001b[0;34m(\u001b[0m\u001b[0;34m)\u001b[0m\u001b[0;34m\u001b[0m\u001b[0;34m\u001b[0m\u001b[0m\n\u001b[0;32m----> 3\u001b[0;31m \u001b[0mscaler\u001b[0m\u001b[0;34m.\u001b[0m\u001b[0mfit\u001b[0m\u001b[0;34m(\u001b[0m\u001b[0mx_train\u001b[0m\u001b[0;34m)\u001b[0m  \u001b[0;31m# Don't cheat - fit only on training data\u001b[0m\u001b[0;34m\u001b[0m\u001b[0;34m\u001b[0m\u001b[0m\n\u001b[0m\u001b[1;32m      4\u001b[0m \u001b[0mX_train\u001b[0m \u001b[0;34m=\u001b[0m \u001b[0mscaler\u001b[0m\u001b[0;34m.\u001b[0m\u001b[0mtransform\u001b[0m\u001b[0;34m(\u001b[0m\u001b[0mx_train\u001b[0m\u001b[0;34m)\u001b[0m\u001b[0;34m\u001b[0m\u001b[0;34m\u001b[0m\u001b[0m\n\u001b[1;32m      5\u001b[0m \u001b[0mX_test\u001b[0m \u001b[0;34m=\u001b[0m \u001b[0mscaler\u001b[0m\u001b[0;34m.\u001b[0m\u001b[0mtransform\u001b[0m\u001b[0;34m(\u001b[0m\u001b[0mx_test\u001b[0m\u001b[0;34m)\u001b[0m  \u001b[0;31m# apply same transformation to test data\u001b[0m\u001b[0;34m\u001b[0m\u001b[0;34m\u001b[0m\u001b[0m\n",
      "\u001b[0;32m~/.local/lib/python3.9/site-packages/sklearn/preprocessing/_data.py\u001b[0m in \u001b[0;36mfit\u001b[0;34m(self, X, y, sample_weight)\u001b[0m\n\u001b[1;32m    804\u001b[0m         \u001b[0;31m# Reset internal state before fitting\u001b[0m\u001b[0;34m\u001b[0m\u001b[0;34m\u001b[0m\u001b[0;34m\u001b[0m\u001b[0m\n\u001b[1;32m    805\u001b[0m         \u001b[0mself\u001b[0m\u001b[0;34m.\u001b[0m\u001b[0m_reset\u001b[0m\u001b[0;34m(\u001b[0m\u001b[0;34m)\u001b[0m\u001b[0;34m\u001b[0m\u001b[0;34m\u001b[0m\u001b[0m\n\u001b[0;32m--> 806\u001b[0;31m         \u001b[0;32mreturn\u001b[0m \u001b[0mself\u001b[0m\u001b[0;34m.\u001b[0m\u001b[0mpartial_fit\u001b[0m\u001b[0;34m(\u001b[0m\u001b[0mX\u001b[0m\u001b[0;34m,\u001b[0m \u001b[0my\u001b[0m\u001b[0;34m,\u001b[0m \u001b[0msample_weight\u001b[0m\u001b[0;34m)\u001b[0m\u001b[0;34m\u001b[0m\u001b[0;34m\u001b[0m\u001b[0m\n\u001b[0m\u001b[1;32m    807\u001b[0m \u001b[0;34m\u001b[0m\u001b[0m\n\u001b[1;32m    808\u001b[0m     \u001b[0;32mdef\u001b[0m \u001b[0mpartial_fit\u001b[0m\u001b[0;34m(\u001b[0m\u001b[0mself\u001b[0m\u001b[0;34m,\u001b[0m \u001b[0mX\u001b[0m\u001b[0;34m,\u001b[0m \u001b[0my\u001b[0m\u001b[0;34m=\u001b[0m\u001b[0;32mNone\u001b[0m\u001b[0;34m,\u001b[0m \u001b[0msample_weight\u001b[0m\u001b[0;34m=\u001b[0m\u001b[0;32mNone\u001b[0m\u001b[0;34m)\u001b[0m\u001b[0;34m:\u001b[0m\u001b[0;34m\u001b[0m\u001b[0;34m\u001b[0m\u001b[0m\n",
      "\u001b[0;32m~/.local/lib/python3.9/site-packages/sklearn/preprocessing/_data.py\u001b[0m in \u001b[0;36mpartial_fit\u001b[0;34m(self, X, y, sample_weight)\u001b[0m\n\u001b[1;32m    839\u001b[0m         \"\"\"\n\u001b[1;32m    840\u001b[0m         \u001b[0mfirst_call\u001b[0m \u001b[0;34m=\u001b[0m \u001b[0;32mnot\u001b[0m \u001b[0mhasattr\u001b[0m\u001b[0;34m(\u001b[0m\u001b[0mself\u001b[0m\u001b[0;34m,\u001b[0m \u001b[0;34m\"n_samples_seen_\"\u001b[0m\u001b[0;34m)\u001b[0m\u001b[0;34m\u001b[0m\u001b[0;34m\u001b[0m\u001b[0m\n\u001b[0;32m--> 841\u001b[0;31m         X = self._validate_data(\n\u001b[0m\u001b[1;32m    842\u001b[0m             \u001b[0mX\u001b[0m\u001b[0;34m,\u001b[0m\u001b[0;34m\u001b[0m\u001b[0;34m\u001b[0m\u001b[0m\n\u001b[1;32m    843\u001b[0m             \u001b[0maccept_sparse\u001b[0m\u001b[0;34m=\u001b[0m\u001b[0;34m(\u001b[0m\u001b[0;34m\"csr\"\u001b[0m\u001b[0;34m,\u001b[0m \u001b[0;34m\"csc\"\u001b[0m\u001b[0;34m)\u001b[0m\u001b[0;34m,\u001b[0m\u001b[0;34m\u001b[0m\u001b[0;34m\u001b[0m\u001b[0m\n",
      "\u001b[0;32m~/.local/lib/python3.9/site-packages/sklearn/base.py\u001b[0m in \u001b[0;36m_validate_data\u001b[0;34m(self, X, y, reset, validate_separately, **check_params)\u001b[0m\n\u001b[1;32m    559\u001b[0m             \u001b[0;32mraise\u001b[0m \u001b[0mValueError\u001b[0m\u001b[0;34m(\u001b[0m\u001b[0;34m\"Validation should be done on X, y or both.\"\u001b[0m\u001b[0;34m)\u001b[0m\u001b[0;34m\u001b[0m\u001b[0;34m\u001b[0m\u001b[0m\n\u001b[1;32m    560\u001b[0m         \u001b[0;32melif\u001b[0m \u001b[0;32mnot\u001b[0m \u001b[0mno_val_X\u001b[0m \u001b[0;32mand\u001b[0m \u001b[0mno_val_y\u001b[0m\u001b[0;34m:\u001b[0m\u001b[0;34m\u001b[0m\u001b[0;34m\u001b[0m\u001b[0m\n\u001b[0;32m--> 561\u001b[0;31m             \u001b[0mX\u001b[0m \u001b[0;34m=\u001b[0m \u001b[0mcheck_array\u001b[0m\u001b[0;34m(\u001b[0m\u001b[0mX\u001b[0m\u001b[0;34m,\u001b[0m \u001b[0;34m**\u001b[0m\u001b[0mcheck_params\u001b[0m\u001b[0;34m)\u001b[0m\u001b[0;34m\u001b[0m\u001b[0;34m\u001b[0m\u001b[0m\n\u001b[0m\u001b[1;32m    562\u001b[0m             \u001b[0mout\u001b[0m \u001b[0;34m=\u001b[0m \u001b[0mX\u001b[0m\u001b[0;34m\u001b[0m\u001b[0;34m\u001b[0m\u001b[0m\n\u001b[1;32m    563\u001b[0m         \u001b[0;32melif\u001b[0m \u001b[0mno_val_X\u001b[0m \u001b[0;32mand\u001b[0m \u001b[0;32mnot\u001b[0m \u001b[0mno_val_y\u001b[0m\u001b[0;34m:\u001b[0m\u001b[0;34m\u001b[0m\u001b[0;34m\u001b[0m\u001b[0m\n",
      "\u001b[0;32m~/.local/lib/python3.9/site-packages/sklearn/utils/validation.py\u001b[0m in \u001b[0;36mcheck_array\u001b[0;34m(array, accept_sparse, accept_large_sparse, dtype, order, copy, force_all_finite, ensure_2d, allow_nd, ensure_min_samples, ensure_min_features, estimator)\u001b[0m\n\u001b[1;32m    736\u001b[0m                     \u001b[0marray\u001b[0m \u001b[0;34m=\u001b[0m \u001b[0marray\u001b[0m\u001b[0;34m.\u001b[0m\u001b[0mastype\u001b[0m\u001b[0;34m(\u001b[0m\u001b[0mdtype\u001b[0m\u001b[0;34m,\u001b[0m \u001b[0mcasting\u001b[0m\u001b[0;34m=\u001b[0m\u001b[0;34m\"unsafe\"\u001b[0m\u001b[0;34m,\u001b[0m \u001b[0mcopy\u001b[0m\u001b[0;34m=\u001b[0m\u001b[0;32mFalse\u001b[0m\u001b[0;34m)\u001b[0m\u001b[0;34m\u001b[0m\u001b[0;34m\u001b[0m\u001b[0m\n\u001b[1;32m    737\u001b[0m                 \u001b[0;32melse\u001b[0m\u001b[0;34m:\u001b[0m\u001b[0;34m\u001b[0m\u001b[0;34m\u001b[0m\u001b[0m\n\u001b[0;32m--> 738\u001b[0;31m                     \u001b[0marray\u001b[0m \u001b[0;34m=\u001b[0m \u001b[0mnp\u001b[0m\u001b[0;34m.\u001b[0m\u001b[0masarray\u001b[0m\u001b[0;34m(\u001b[0m\u001b[0marray\u001b[0m\u001b[0;34m,\u001b[0m \u001b[0morder\u001b[0m\u001b[0;34m=\u001b[0m\u001b[0morder\u001b[0m\u001b[0;34m,\u001b[0m \u001b[0mdtype\u001b[0m\u001b[0;34m=\u001b[0m\u001b[0mdtype\u001b[0m\u001b[0;34m)\u001b[0m\u001b[0;34m\u001b[0m\u001b[0;34m\u001b[0m\u001b[0m\n\u001b[0m\u001b[1;32m    739\u001b[0m             \u001b[0;32mexcept\u001b[0m \u001b[0mComplexWarning\u001b[0m \u001b[0;32mas\u001b[0m \u001b[0mcomplex_warning\u001b[0m\u001b[0;34m:\u001b[0m\u001b[0;34m\u001b[0m\u001b[0;34m\u001b[0m\u001b[0m\n\u001b[1;32m    740\u001b[0m                 raise ValueError(\n",
      "\u001b[0;32m/usr/lib/python3/dist-packages/numpy/core/_asarray.py\u001b[0m in \u001b[0;36masarray\u001b[0;34m(a, dtype, order)\u001b[0m\n\u001b[1;32m     81\u001b[0m \u001b[0;34m\u001b[0m\u001b[0m\n\u001b[1;32m     82\u001b[0m     \"\"\"\n\u001b[0;32m---> 83\u001b[0;31m     \u001b[0;32mreturn\u001b[0m \u001b[0marray\u001b[0m\u001b[0;34m(\u001b[0m\u001b[0ma\u001b[0m\u001b[0;34m,\u001b[0m \u001b[0mdtype\u001b[0m\u001b[0;34m,\u001b[0m \u001b[0mcopy\u001b[0m\u001b[0;34m=\u001b[0m\u001b[0;32mFalse\u001b[0m\u001b[0;34m,\u001b[0m \u001b[0morder\u001b[0m\u001b[0;34m=\u001b[0m\u001b[0morder\u001b[0m\u001b[0;34m)\u001b[0m\u001b[0;34m\u001b[0m\u001b[0;34m\u001b[0m\u001b[0m\n\u001b[0m\u001b[1;32m     84\u001b[0m \u001b[0;34m\u001b[0m\u001b[0m\n\u001b[1;32m     85\u001b[0m \u001b[0;34m\u001b[0m\u001b[0m\n",
      "\u001b[0;32m/usr/lib/python3/dist-packages/pandas/core/generic.py\u001b[0m in \u001b[0;36m__array__\u001b[0;34m(self, dtype)\u001b[0m\n\u001b[1;32m   1779\u001b[0m \u001b[0;34m\u001b[0m\u001b[0m\n\u001b[1;32m   1780\u001b[0m     \u001b[0;32mdef\u001b[0m \u001b[0m__array__\u001b[0m\u001b[0;34m(\u001b[0m\u001b[0mself\u001b[0m\u001b[0;34m,\u001b[0m \u001b[0mdtype\u001b[0m\u001b[0;34m=\u001b[0m\u001b[0;32mNone\u001b[0m\u001b[0;34m)\u001b[0m \u001b[0;34m->\u001b[0m \u001b[0mnp\u001b[0m\u001b[0;34m.\u001b[0m\u001b[0mndarray\u001b[0m\u001b[0;34m:\u001b[0m\u001b[0;34m\u001b[0m\u001b[0;34m\u001b[0m\u001b[0m\n\u001b[0;32m-> 1781\u001b[0;31m         \u001b[0;32mreturn\u001b[0m \u001b[0mnp\u001b[0m\u001b[0;34m.\u001b[0m\u001b[0masarray\u001b[0m\u001b[0;34m(\u001b[0m\u001b[0mself\u001b[0m\u001b[0;34m.\u001b[0m\u001b[0m_values\u001b[0m\u001b[0;34m,\u001b[0m \u001b[0mdtype\u001b[0m\u001b[0;34m=\u001b[0m\u001b[0mdtype\u001b[0m\u001b[0;34m)\u001b[0m\u001b[0;34m\u001b[0m\u001b[0;34m\u001b[0m\u001b[0m\n\u001b[0m\u001b[1;32m   1782\u001b[0m \u001b[0;34m\u001b[0m\u001b[0m\n\u001b[1;32m   1783\u001b[0m     \u001b[0;32mdef\u001b[0m \u001b[0m__array_wrap__\u001b[0m\u001b[0;34m(\u001b[0m\u001b[0mself\u001b[0m\u001b[0;34m,\u001b[0m \u001b[0mresult\u001b[0m\u001b[0;34m,\u001b[0m \u001b[0mcontext\u001b[0m\u001b[0;34m=\u001b[0m\u001b[0;32mNone\u001b[0m\u001b[0;34m)\u001b[0m\u001b[0;34m:\u001b[0m\u001b[0;34m\u001b[0m\u001b[0;34m\u001b[0m\u001b[0m\n",
      "\u001b[0;32m/usr/lib/python3/dist-packages/numpy/core/_asarray.py\u001b[0m in \u001b[0;36masarray\u001b[0;34m(a, dtype, order)\u001b[0m\n\u001b[1;32m     81\u001b[0m \u001b[0;34m\u001b[0m\u001b[0m\n\u001b[1;32m     82\u001b[0m     \"\"\"\n\u001b[0;32m---> 83\u001b[0;31m     \u001b[0;32mreturn\u001b[0m \u001b[0marray\u001b[0m\u001b[0;34m(\u001b[0m\u001b[0ma\u001b[0m\u001b[0;34m,\u001b[0m \u001b[0mdtype\u001b[0m\u001b[0;34m,\u001b[0m \u001b[0mcopy\u001b[0m\u001b[0;34m=\u001b[0m\u001b[0;32mFalse\u001b[0m\u001b[0;34m,\u001b[0m \u001b[0morder\u001b[0m\u001b[0;34m=\u001b[0m\u001b[0morder\u001b[0m\u001b[0;34m)\u001b[0m\u001b[0;34m\u001b[0m\u001b[0;34m\u001b[0m\u001b[0m\n\u001b[0m\u001b[1;32m     84\u001b[0m \u001b[0;34m\u001b[0m\u001b[0m\n\u001b[1;32m     85\u001b[0m \u001b[0;34m\u001b[0m\u001b[0m\n",
      "\u001b[0;31mValueError\u001b[0m: could not convert string to float: 'v=IDrS_TrjuK4'"
     ]
    }
   ],
   "source": [
    "from sklearn.preprocessing import StandardScaler\n",
    "scaler = StandardScaler()\n",
    "scaler.fit(x_train)  # Don't cheat - fit only on training data\n",
    "X_train = scaler.transform(x_train)\n",
    "X_test = scaler.transform(x_test)  # apply same transformation to test data\n"
   ]
  },
  {
   "cell_type": "code",
   "execution_count": 40,
   "id": "permanent-destination",
   "metadata": {},
   "outputs": [],
   "source": [
    "x_train = np.array(x_train)\n",
    "x_test = np.array(x_test)\n",
    "\n",
    "y_train = np.array(y_train)\n",
    "y_test = np.array(y_test)"
   ]
  },
  {
   "cell_type": "code",
   "execution_count": 41,
   "id": "exterior-douglas",
   "metadata": {},
   "outputs": [
    {
     "ename": "ValueError",
     "evalue": "could not convert string to float: 'v=IDrS_TrjuK4'",
     "output_type": "error",
     "traceback": [
      "\u001b[0;31m---------------------------------------------------------------------------\u001b[0m",
      "\u001b[0;31mValueError\u001b[0m                                Traceback (most recent call last)",
      "\u001b[0;32m/tmp/ipykernel_36464/456245357.py\u001b[0m in \u001b[0;36m<module>\u001b[0;34m\u001b[0m\n\u001b[0;32m----> 1\u001b[0;31m \u001b[0mscaler\u001b[0m\u001b[0;34m.\u001b[0m\u001b[0mfit\u001b[0m\u001b[0;34m(\u001b[0m\u001b[0mx_train\u001b[0m\u001b[0;34m)\u001b[0m  \u001b[0;31m# Don't cheat - fit only on training data\u001b[0m\u001b[0;34m\u001b[0m\u001b[0;34m\u001b[0m\u001b[0m\n\u001b[0m\u001b[1;32m      2\u001b[0m \u001b[0mX_train\u001b[0m \u001b[0;34m=\u001b[0m \u001b[0mscaler\u001b[0m\u001b[0;34m.\u001b[0m\u001b[0mtransform\u001b[0m\u001b[0;34m(\u001b[0m\u001b[0mx_train\u001b[0m\u001b[0;34m)\u001b[0m\u001b[0;34m\u001b[0m\u001b[0;34m\u001b[0m\u001b[0m\n\u001b[1;32m      3\u001b[0m \u001b[0mX_test\u001b[0m \u001b[0;34m=\u001b[0m \u001b[0mscaler\u001b[0m\u001b[0;34m.\u001b[0m\u001b[0mtransform\u001b[0m\u001b[0;34m(\u001b[0m\u001b[0mx_test\u001b[0m\u001b[0;34m)\u001b[0m  \u001b[0;31m# apply same transformation to test data\u001b[0m\u001b[0;34m\u001b[0m\u001b[0;34m\u001b[0m\u001b[0m\n",
      "\u001b[0;32m~/.local/lib/python3.9/site-packages/sklearn/preprocessing/_data.py\u001b[0m in \u001b[0;36mfit\u001b[0;34m(self, X, y, sample_weight)\u001b[0m\n\u001b[1;32m    804\u001b[0m         \u001b[0;31m# Reset internal state before fitting\u001b[0m\u001b[0;34m\u001b[0m\u001b[0;34m\u001b[0m\u001b[0;34m\u001b[0m\u001b[0m\n\u001b[1;32m    805\u001b[0m         \u001b[0mself\u001b[0m\u001b[0;34m.\u001b[0m\u001b[0m_reset\u001b[0m\u001b[0;34m(\u001b[0m\u001b[0;34m)\u001b[0m\u001b[0;34m\u001b[0m\u001b[0;34m\u001b[0m\u001b[0m\n\u001b[0;32m--> 806\u001b[0;31m         \u001b[0;32mreturn\u001b[0m \u001b[0mself\u001b[0m\u001b[0;34m.\u001b[0m\u001b[0mpartial_fit\u001b[0m\u001b[0;34m(\u001b[0m\u001b[0mX\u001b[0m\u001b[0;34m,\u001b[0m \u001b[0my\u001b[0m\u001b[0;34m,\u001b[0m \u001b[0msample_weight\u001b[0m\u001b[0;34m)\u001b[0m\u001b[0;34m\u001b[0m\u001b[0;34m\u001b[0m\u001b[0m\n\u001b[0m\u001b[1;32m    807\u001b[0m \u001b[0;34m\u001b[0m\u001b[0m\n\u001b[1;32m    808\u001b[0m     \u001b[0;32mdef\u001b[0m \u001b[0mpartial_fit\u001b[0m\u001b[0;34m(\u001b[0m\u001b[0mself\u001b[0m\u001b[0;34m,\u001b[0m \u001b[0mX\u001b[0m\u001b[0;34m,\u001b[0m \u001b[0my\u001b[0m\u001b[0;34m=\u001b[0m\u001b[0;32mNone\u001b[0m\u001b[0;34m,\u001b[0m \u001b[0msample_weight\u001b[0m\u001b[0;34m=\u001b[0m\u001b[0;32mNone\u001b[0m\u001b[0;34m)\u001b[0m\u001b[0;34m:\u001b[0m\u001b[0;34m\u001b[0m\u001b[0;34m\u001b[0m\u001b[0m\n",
      "\u001b[0;32m~/.local/lib/python3.9/site-packages/sklearn/preprocessing/_data.py\u001b[0m in \u001b[0;36mpartial_fit\u001b[0;34m(self, X, y, sample_weight)\u001b[0m\n\u001b[1;32m    839\u001b[0m         \"\"\"\n\u001b[1;32m    840\u001b[0m         \u001b[0mfirst_call\u001b[0m \u001b[0;34m=\u001b[0m \u001b[0;32mnot\u001b[0m \u001b[0mhasattr\u001b[0m\u001b[0;34m(\u001b[0m\u001b[0mself\u001b[0m\u001b[0;34m,\u001b[0m \u001b[0;34m\"n_samples_seen_\"\u001b[0m\u001b[0;34m)\u001b[0m\u001b[0;34m\u001b[0m\u001b[0;34m\u001b[0m\u001b[0m\n\u001b[0;32m--> 841\u001b[0;31m         X = self._validate_data(\n\u001b[0m\u001b[1;32m    842\u001b[0m             \u001b[0mX\u001b[0m\u001b[0;34m,\u001b[0m\u001b[0;34m\u001b[0m\u001b[0;34m\u001b[0m\u001b[0m\n\u001b[1;32m    843\u001b[0m             \u001b[0maccept_sparse\u001b[0m\u001b[0;34m=\u001b[0m\u001b[0;34m(\u001b[0m\u001b[0;34m\"csr\"\u001b[0m\u001b[0;34m,\u001b[0m \u001b[0;34m\"csc\"\u001b[0m\u001b[0;34m)\u001b[0m\u001b[0;34m,\u001b[0m\u001b[0;34m\u001b[0m\u001b[0;34m\u001b[0m\u001b[0m\n",
      "\u001b[0;32m~/.local/lib/python3.9/site-packages/sklearn/base.py\u001b[0m in \u001b[0;36m_validate_data\u001b[0;34m(self, X, y, reset, validate_separately, **check_params)\u001b[0m\n\u001b[1;32m    559\u001b[0m             \u001b[0;32mraise\u001b[0m \u001b[0mValueError\u001b[0m\u001b[0;34m(\u001b[0m\u001b[0;34m\"Validation should be done on X, y or both.\"\u001b[0m\u001b[0;34m)\u001b[0m\u001b[0;34m\u001b[0m\u001b[0;34m\u001b[0m\u001b[0m\n\u001b[1;32m    560\u001b[0m         \u001b[0;32melif\u001b[0m \u001b[0;32mnot\u001b[0m \u001b[0mno_val_X\u001b[0m \u001b[0;32mand\u001b[0m \u001b[0mno_val_y\u001b[0m\u001b[0;34m:\u001b[0m\u001b[0;34m\u001b[0m\u001b[0;34m\u001b[0m\u001b[0m\n\u001b[0;32m--> 561\u001b[0;31m             \u001b[0mX\u001b[0m \u001b[0;34m=\u001b[0m \u001b[0mcheck_array\u001b[0m\u001b[0;34m(\u001b[0m\u001b[0mX\u001b[0m\u001b[0;34m,\u001b[0m \u001b[0;34m**\u001b[0m\u001b[0mcheck_params\u001b[0m\u001b[0;34m)\u001b[0m\u001b[0;34m\u001b[0m\u001b[0;34m\u001b[0m\u001b[0m\n\u001b[0m\u001b[1;32m    562\u001b[0m             \u001b[0mout\u001b[0m \u001b[0;34m=\u001b[0m \u001b[0mX\u001b[0m\u001b[0;34m\u001b[0m\u001b[0;34m\u001b[0m\u001b[0m\n\u001b[1;32m    563\u001b[0m         \u001b[0;32melif\u001b[0m \u001b[0mno_val_X\u001b[0m \u001b[0;32mand\u001b[0m \u001b[0;32mnot\u001b[0m \u001b[0mno_val_y\u001b[0m\u001b[0;34m:\u001b[0m\u001b[0;34m\u001b[0m\u001b[0;34m\u001b[0m\u001b[0m\n",
      "\u001b[0;32m~/.local/lib/python3.9/site-packages/sklearn/utils/validation.py\u001b[0m in \u001b[0;36mcheck_array\u001b[0;34m(array, accept_sparse, accept_large_sparse, dtype, order, copy, force_all_finite, ensure_2d, allow_nd, ensure_min_samples, ensure_min_features, estimator)\u001b[0m\n\u001b[1;32m    736\u001b[0m                     \u001b[0marray\u001b[0m \u001b[0;34m=\u001b[0m \u001b[0marray\u001b[0m\u001b[0;34m.\u001b[0m\u001b[0mastype\u001b[0m\u001b[0;34m(\u001b[0m\u001b[0mdtype\u001b[0m\u001b[0;34m,\u001b[0m \u001b[0mcasting\u001b[0m\u001b[0;34m=\u001b[0m\u001b[0;34m\"unsafe\"\u001b[0m\u001b[0;34m,\u001b[0m \u001b[0mcopy\u001b[0m\u001b[0;34m=\u001b[0m\u001b[0;32mFalse\u001b[0m\u001b[0;34m)\u001b[0m\u001b[0;34m\u001b[0m\u001b[0;34m\u001b[0m\u001b[0m\n\u001b[1;32m    737\u001b[0m                 \u001b[0;32melse\u001b[0m\u001b[0;34m:\u001b[0m\u001b[0;34m\u001b[0m\u001b[0;34m\u001b[0m\u001b[0m\n\u001b[0;32m--> 738\u001b[0;31m                     \u001b[0marray\u001b[0m \u001b[0;34m=\u001b[0m \u001b[0mnp\u001b[0m\u001b[0;34m.\u001b[0m\u001b[0masarray\u001b[0m\u001b[0;34m(\u001b[0m\u001b[0marray\u001b[0m\u001b[0;34m,\u001b[0m \u001b[0morder\u001b[0m\u001b[0;34m=\u001b[0m\u001b[0morder\u001b[0m\u001b[0;34m,\u001b[0m \u001b[0mdtype\u001b[0m\u001b[0;34m=\u001b[0m\u001b[0mdtype\u001b[0m\u001b[0;34m)\u001b[0m\u001b[0;34m\u001b[0m\u001b[0;34m\u001b[0m\u001b[0m\n\u001b[0m\u001b[1;32m    739\u001b[0m             \u001b[0;32mexcept\u001b[0m \u001b[0mComplexWarning\u001b[0m \u001b[0;32mas\u001b[0m \u001b[0mcomplex_warning\u001b[0m\u001b[0;34m:\u001b[0m\u001b[0;34m\u001b[0m\u001b[0;34m\u001b[0m\u001b[0m\n\u001b[1;32m    740\u001b[0m                 raise ValueError(\n",
      "\u001b[0;32m/usr/lib/python3/dist-packages/numpy/core/_asarray.py\u001b[0m in \u001b[0;36masarray\u001b[0;34m(a, dtype, order)\u001b[0m\n\u001b[1;32m     81\u001b[0m \u001b[0;34m\u001b[0m\u001b[0m\n\u001b[1;32m     82\u001b[0m     \"\"\"\n\u001b[0;32m---> 83\u001b[0;31m     \u001b[0;32mreturn\u001b[0m \u001b[0marray\u001b[0m\u001b[0;34m(\u001b[0m\u001b[0ma\u001b[0m\u001b[0;34m,\u001b[0m \u001b[0mdtype\u001b[0m\u001b[0;34m,\u001b[0m \u001b[0mcopy\u001b[0m\u001b[0;34m=\u001b[0m\u001b[0;32mFalse\u001b[0m\u001b[0;34m,\u001b[0m \u001b[0morder\u001b[0m\u001b[0;34m=\u001b[0m\u001b[0morder\u001b[0m\u001b[0;34m)\u001b[0m\u001b[0;34m\u001b[0m\u001b[0;34m\u001b[0m\u001b[0m\n\u001b[0m\u001b[1;32m     84\u001b[0m \u001b[0;34m\u001b[0m\u001b[0m\n\u001b[1;32m     85\u001b[0m \u001b[0;34m\u001b[0m\u001b[0m\n",
      "\u001b[0;31mValueError\u001b[0m: could not convert string to float: 'v=IDrS_TrjuK4'"
     ]
    }
   ],
   "source": [
    "scaler.fit(x_train)  # Don't cheat - fit only on training data\n",
    "X_train = scaler.transform(x_train)\n",
    "X_test = scaler.transform(x_test)  # apply same transformation to test data\n"
   ]
  },
  {
   "cell_type": "code",
   "execution_count": 42,
   "id": "minimal-cooking",
   "metadata": {},
   "outputs": [
    {
     "data": {
      "text/plain": [
       "video_id               0\n",
       "title                  0\n",
       "active_since_days      0\n",
       "duration_seconds       0\n",
       "total_views            0\n",
       "num_chars              0\n",
       "num_words              0\n",
       "num_punctuation        0\n",
       "num_words_uppercase    0\n",
       "num_words_lowercase    0\n",
       "num_stopwords          0\n",
       "avg_word_len           0\n",
       "contain_digits         0\n",
       "startswith_digits      0\n",
       "title_sentiment        0\n",
       "dtype: int64"
      ]
     },
     "execution_count": 42,
     "metadata": {},
     "output_type": "execute_result"
    }
   ],
   "source": [
    "data.isna().sum()"
   ]
  },
  {
   "cell_type": "code",
   "execution_count": 43,
   "id": "innocent-pasta",
   "metadata": {},
   "outputs": [
    {
     "data": {
      "text/plain": [
       "video_id                object\n",
       "title                   object\n",
       "active_since_days        int64\n",
       "duration_seconds         int64\n",
       "total_views              int64\n",
       "num_chars                int64\n",
       "num_words                int64\n",
       "num_punctuation          int64\n",
       "num_words_uppercase      int64\n",
       "num_words_lowercase      int64\n",
       "num_stopwords            int64\n",
       "avg_word_len           float64\n",
       "contain_digits           int64\n",
       "startswith_digits        int64\n",
       "title_sentiment        float64\n",
       "dtype: object"
      ]
     },
     "execution_count": 43,
     "metadata": {},
     "output_type": "execute_result"
    }
   ],
   "source": [
    "data.dtypes"
   ]
  },
  {
   "cell_type": "code",
   "execution_count": 44,
   "id": "aboriginal-contact",
   "metadata": {},
   "outputs": [],
   "source": [
    "from sklearn.preprocessing import OneHotEncoder\n",
    "from sklearn.compose import ColumnTransformer\n",
    "\n",
    "features = ['video_id', 'title']\n",
    "one_hot = OneHotEncoder()\n",
    "\n",
    "transformer = ColumnTransformer([('one_hot',\n",
    "                                  one_hot,\n",
    "                                  features)],\n",
    "                                remainder='passthrough')"
   ]
  },
  {
   "cell_type": "code",
   "execution_count": 46,
   "id": "stable-drive",
   "metadata": {},
   "outputs": [
    {
     "data": {
      "text/plain": [
       "<744x1458 sparse matrix of type '<class 'numpy.float64'>'\n",
       "\twith 8302 stored elements in Compressed Sparse Row format>"
      ]
     },
     "execution_count": 46,
     "metadata": {},
     "output_type": "execute_result"
    }
   ],
   "source": [
    "# now create our x again from transformer dataset\n",
    "\n",
    "x_transformed = transformer.fit_transform(data)\n",
    "\n",
    "x_transformed"
   ]
  },
  {
   "cell_type": "code",
   "execution_count": 48,
   "id": "tutorial-happening",
   "metadata": {},
   "outputs": [],
   "source": [
    "# let's do convert our x and y again with numeric features\n",
    "x_train, x_test, y_train, y_test = train_test_split(x_transformed, y, test_size=0.2)"
   ]
  },
  {
   "cell_type": "code",
   "execution_count": 49,
   "id": "environmental-assistant",
   "metadata": {},
   "outputs": [
    {
     "ename": "ValueError",
     "evalue": "Cannot center sparse matrices: pass `with_mean=False` instead. See docstring for motivation and alternatives.",
     "output_type": "error",
     "traceback": [
      "\u001b[0;31m---------------------------------------------------------------------------\u001b[0m",
      "\u001b[0;31mValueError\u001b[0m                                Traceback (most recent call last)",
      "\u001b[0;32m/tmp/ipykernel_36464/1664023450.py\u001b[0m in \u001b[0;36m<module>\u001b[0;34m\u001b[0m\n\u001b[1;32m      1\u001b[0m \u001b[0;31m# fit the model\u001b[0m\u001b[0;34m\u001b[0m\u001b[0;34m\u001b[0m\u001b[0;34m\u001b[0m\u001b[0m\n\u001b[0;32m----> 2\u001b[0;31m \u001b[0mscaler\u001b[0m\u001b[0;34m.\u001b[0m\u001b[0mfit\u001b[0m\u001b[0;34m(\u001b[0m\u001b[0mx_train\u001b[0m\u001b[0;34m)\u001b[0m  \u001b[0;31m# Don't cheat - fit only on training data\u001b[0m\u001b[0;34m\u001b[0m\u001b[0;34m\u001b[0m\u001b[0m\n\u001b[0m",
      "\u001b[0;32m~/.local/lib/python3.9/site-packages/sklearn/preprocessing/_data.py\u001b[0m in \u001b[0;36mfit\u001b[0;34m(self, X, y, sample_weight)\u001b[0m\n\u001b[1;32m    804\u001b[0m         \u001b[0;31m# Reset internal state before fitting\u001b[0m\u001b[0;34m\u001b[0m\u001b[0;34m\u001b[0m\u001b[0;34m\u001b[0m\u001b[0m\n\u001b[1;32m    805\u001b[0m         \u001b[0mself\u001b[0m\u001b[0;34m.\u001b[0m\u001b[0m_reset\u001b[0m\u001b[0;34m(\u001b[0m\u001b[0;34m)\u001b[0m\u001b[0;34m\u001b[0m\u001b[0;34m\u001b[0m\u001b[0m\n\u001b[0;32m--> 806\u001b[0;31m         \u001b[0;32mreturn\u001b[0m \u001b[0mself\u001b[0m\u001b[0;34m.\u001b[0m\u001b[0mpartial_fit\u001b[0m\u001b[0;34m(\u001b[0m\u001b[0mX\u001b[0m\u001b[0;34m,\u001b[0m \u001b[0my\u001b[0m\u001b[0;34m,\u001b[0m \u001b[0msample_weight\u001b[0m\u001b[0;34m)\u001b[0m\u001b[0;34m\u001b[0m\u001b[0;34m\u001b[0m\u001b[0m\n\u001b[0m\u001b[1;32m    807\u001b[0m \u001b[0;34m\u001b[0m\u001b[0m\n\u001b[1;32m    808\u001b[0m     \u001b[0;32mdef\u001b[0m \u001b[0mpartial_fit\u001b[0m\u001b[0;34m(\u001b[0m\u001b[0mself\u001b[0m\u001b[0;34m,\u001b[0m \u001b[0mX\u001b[0m\u001b[0;34m,\u001b[0m \u001b[0my\u001b[0m\u001b[0;34m=\u001b[0m\u001b[0;32mNone\u001b[0m\u001b[0;34m,\u001b[0m \u001b[0msample_weight\u001b[0m\u001b[0;34m=\u001b[0m\u001b[0;32mNone\u001b[0m\u001b[0;34m)\u001b[0m\u001b[0;34m:\u001b[0m\u001b[0;34m\u001b[0m\u001b[0;34m\u001b[0m\u001b[0m\n",
      "\u001b[0;32m~/.local/lib/python3.9/site-packages/sklearn/preprocessing/_data.py\u001b[0m in \u001b[0;36mpartial_fit\u001b[0;34m(self, X, y, sample_weight)\u001b[0m\n\u001b[1;32m    868\u001b[0m         \u001b[0;32mif\u001b[0m \u001b[0msparse\u001b[0m\u001b[0;34m.\u001b[0m\u001b[0missparse\u001b[0m\u001b[0;34m(\u001b[0m\u001b[0mX\u001b[0m\u001b[0;34m)\u001b[0m\u001b[0;34m:\u001b[0m\u001b[0;34m\u001b[0m\u001b[0;34m\u001b[0m\u001b[0m\n\u001b[1;32m    869\u001b[0m             \u001b[0;32mif\u001b[0m \u001b[0mself\u001b[0m\u001b[0;34m.\u001b[0m\u001b[0mwith_mean\u001b[0m\u001b[0;34m:\u001b[0m\u001b[0;34m\u001b[0m\u001b[0;34m\u001b[0m\u001b[0m\n\u001b[0;32m--> 870\u001b[0;31m                 raise ValueError(\n\u001b[0m\u001b[1;32m    871\u001b[0m                     \u001b[0;34m\"Cannot center sparse matrices: pass `with_mean=False` \"\u001b[0m\u001b[0;34m\u001b[0m\u001b[0;34m\u001b[0m\u001b[0m\n\u001b[1;32m    872\u001b[0m                     \u001b[0;34m\"instead. See docstring for motivation and alternatives.\"\u001b[0m\u001b[0;34m\u001b[0m\u001b[0;34m\u001b[0m\u001b[0m\n",
      "\u001b[0;31mValueError\u001b[0m: Cannot center sparse matrices: pass `with_mean=False` instead. See docstring for motivation and alternatives."
     ]
    }
   ],
   "source": [
    "# fit the model\n",
    "scaler.fit(x_train)  # Don't cheat - fit only on training data\n"
   ]
  },
  {
   "cell_type": "code",
   "execution_count": 50,
   "id": "sustained-doubt",
   "metadata": {},
   "outputs": [],
   "source": [
    "from sklearn.ensemble import RandomForestRegressor\n",
    "\n",
    "model = RandomForestRegressor()"
   ]
  },
  {
   "cell_type": "code",
   "execution_count": 52,
   "id": "spatial-scratch",
   "metadata": {},
   "outputs": [
    {
     "data": {
      "text/plain": [
       "RandomForestRegressor()"
      ]
     },
     "execution_count": 52,
     "metadata": {},
     "output_type": "execute_result"
    }
   ],
   "source": [
    "model.fit(x_train, y_train)"
   ]
  },
  {
   "cell_type": "code",
   "execution_count": 57,
   "id": "wanted-module",
   "metadata": {},
   "outputs": [
    {
     "data": {
      "text/plain": [
       "0.9999088171961549"
      ]
     },
     "execution_count": 57,
     "metadata": {},
     "output_type": "execute_result"
    }
   ],
   "source": [
    "model.score(x_train, y_train)"
   ]
  },
  {
   "cell_type": "code",
   "execution_count": 58,
   "id": "offensive-fourth",
   "metadata": {},
   "outputs": [
    {
     "data": {
      "text/plain": [
       "0.9999354427320334"
      ]
     },
     "execution_count": 58,
     "metadata": {},
     "output_type": "execute_result"
    }
   ],
   "source": [
    "model.score(x_test, y_test)"
   ]
  },
  {
   "cell_type": "code",
   "execution_count": 60,
   "id": "intimate-missouri",
   "metadata": {},
   "outputs": [
    {
     "data": {
      "text/plain": [
       "(744, 15)"
      ]
     },
     "execution_count": 60,
     "metadata": {},
     "output_type": "execute_result"
    }
   ],
   "source": [
    "data.shape"
   ]
  },
  {
   "cell_type": "markdown",
   "id": "painted-letters",
   "metadata": {},
   "source": [
    "# Evaluating our model\n"
   ]
  },
  {
   "cell_type": "code",
   "execution_count": 61,
   "id": "funny-population",
   "metadata": {},
   "outputs": [],
   "source": [
    "from sklearn.model_selection import cross_val_score, cross_val_predict"
   ]
  },
  {
   "cell_type": "code",
   "execution_count": 63,
   "id": "instructional-community",
   "metadata": {},
   "outputs": [
    {
     "name": "stdout",
     "output_type": "stream",
     "text": [
      "[0.92600848 0.99799015 0.99962736 0.99989197 0.99952744]\n"
     ]
    }
   ],
   "source": [
    "print(cross_val_score(model, x_transformed, y))"
   ]
  },
  {
   "cell_type": "code",
   "execution_count": 67,
   "id": "outer-forwarding",
   "metadata": {},
   "outputs": [],
   "source": [
    "scores = np.mean(cross_val_score(model, x_transformed, y))"
   ]
  },
  {
   "cell_type": "code",
   "execution_count": 74,
   "id": "cosmetic-commission",
   "metadata": {},
   "outputs": [
    {
     "name": "stdout",
     "output_type": "stream",
     "text": [
      "98.55 accuracy with a standard deviation of 0.00\n"
     ]
    }
   ],
   "source": [
    "print(\"%0.2f accuracy with a standard deviation of %0.2f\" % ((scores.mean()*100), scores.std()))"
   ]
  },
  {
   "cell_type": "code",
   "execution_count": 76,
   "id": "quarterly-coast",
   "metadata": {},
   "outputs": [],
   "source": [
    "y_preds = model.predict(x_test)"
   ]
  },
  {
   "cell_type": "code",
   "execution_count": 78,
   "id": "choice-maria",
   "metadata": {},
   "outputs": [
    {
     "data": {
      "text/plain": [
       "dtype('float64')"
      ]
     },
     "execution_count": 78,
     "metadata": {},
     "output_type": "execute_result"
    }
   ],
   "source": [
    "y_preds.dtype"
   ]
  },
  {
   "cell_type": "code",
   "execution_count": 80,
   "id": "objective-wayne",
   "metadata": {},
   "outputs": [
    {
     "ename": "ValueError",
     "evalue": "multiclass format is not supported",
     "output_type": "error",
     "traceback": [
      "\u001b[0;31m---------------------------------------------------------------------------\u001b[0m",
      "\u001b[0;31mValueError\u001b[0m                                Traceback (most recent call last)",
      "\u001b[0;32m/tmp/ipykernel_36464/2587727015.py\u001b[0m in \u001b[0;36m<module>\u001b[0;34m\u001b[0m\n\u001b[1;32m      2\u001b[0m \u001b[0;32mfrom\u001b[0m \u001b[0msklearn\u001b[0m\u001b[0;34m.\u001b[0m\u001b[0mmetrics\u001b[0m \u001b[0;32mimport\u001b[0m \u001b[0mroc_curve\u001b[0m\u001b[0;34m,\u001b[0m \u001b[0mroc_auc_score\u001b[0m\u001b[0;34m\u001b[0m\u001b[0;34m\u001b[0m\u001b[0m\n\u001b[1;32m      3\u001b[0m \u001b[0my_preds\u001b[0m \u001b[0;34m=\u001b[0m \u001b[0mmodel\u001b[0m\u001b[0;34m.\u001b[0m\u001b[0mpredict\u001b[0m\u001b[0;34m(\u001b[0m\u001b[0mx_test\u001b[0m\u001b[0;34m)\u001b[0m\u001b[0;34m\u001b[0m\u001b[0;34m\u001b[0m\u001b[0m\n\u001b[0;32m----> 4\u001b[0;31m \u001b[0mfpr\u001b[0m\u001b[0;34m,\u001b[0m \u001b[0mtpr\u001b[0m\u001b[0;34m,\u001b[0m \u001b[0mthresholds\u001b[0m \u001b[0;34m=\u001b[0m \u001b[0mroc_curve\u001b[0m\u001b[0;34m(\u001b[0m\u001b[0my_test\u001b[0m\u001b[0;34m,\u001b[0m \u001b[0my_preds\u001b[0m\u001b[0;34m)\u001b[0m\u001b[0;34m\u001b[0m\u001b[0;34m\u001b[0m\u001b[0m\n\u001b[0m\u001b[1;32m      5\u001b[0m \u001b[0;34m\u001b[0m\u001b[0m\n\u001b[1;32m      6\u001b[0m \u001b[0;32mimport\u001b[0m \u001b[0mseaborn\u001b[0m \u001b[0;32mas\u001b[0m \u001b[0msns\u001b[0m\u001b[0;34m\u001b[0m\u001b[0;34m\u001b[0m\u001b[0m\n",
      "\u001b[0;32m~/.local/lib/python3.9/site-packages/sklearn/metrics/_ranking.py\u001b[0m in \u001b[0;36mroc_curve\u001b[0;34m(y_true, y_score, pos_label, sample_weight, drop_intermediate)\u001b[0m\n\u001b[1;32m    960\u001b[0m \u001b[0;34m\u001b[0m\u001b[0m\n\u001b[1;32m    961\u001b[0m     \"\"\"\n\u001b[0;32m--> 962\u001b[0;31m     fps, tps, thresholds = _binary_clf_curve(\n\u001b[0m\u001b[1;32m    963\u001b[0m         \u001b[0my_true\u001b[0m\u001b[0;34m,\u001b[0m \u001b[0my_score\u001b[0m\u001b[0;34m,\u001b[0m \u001b[0mpos_label\u001b[0m\u001b[0;34m=\u001b[0m\u001b[0mpos_label\u001b[0m\u001b[0;34m,\u001b[0m \u001b[0msample_weight\u001b[0m\u001b[0;34m=\u001b[0m\u001b[0msample_weight\u001b[0m\u001b[0;34m\u001b[0m\u001b[0;34m\u001b[0m\u001b[0m\n\u001b[1;32m    964\u001b[0m     )\n",
      "\u001b[0;32m~/.local/lib/python3.9/site-packages/sklearn/metrics/_ranking.py\u001b[0m in \u001b[0;36m_binary_clf_curve\u001b[0;34m(y_true, y_score, pos_label, sample_weight)\u001b[0m\n\u001b[1;32m    729\u001b[0m     \u001b[0my_type\u001b[0m \u001b[0;34m=\u001b[0m \u001b[0mtype_of_target\u001b[0m\u001b[0;34m(\u001b[0m\u001b[0my_true\u001b[0m\u001b[0;34m)\u001b[0m\u001b[0;34m\u001b[0m\u001b[0;34m\u001b[0m\u001b[0m\n\u001b[1;32m    730\u001b[0m     \u001b[0;32mif\u001b[0m \u001b[0;32mnot\u001b[0m \u001b[0;34m(\u001b[0m\u001b[0my_type\u001b[0m \u001b[0;34m==\u001b[0m \u001b[0;34m\"binary\"\u001b[0m \u001b[0;32mor\u001b[0m \u001b[0;34m(\u001b[0m\u001b[0my_type\u001b[0m \u001b[0;34m==\u001b[0m \u001b[0;34m\"multiclass\"\u001b[0m \u001b[0;32mand\u001b[0m \u001b[0mpos_label\u001b[0m \u001b[0;32mis\u001b[0m \u001b[0;32mnot\u001b[0m \u001b[0;32mNone\u001b[0m\u001b[0;34m)\u001b[0m\u001b[0;34m)\u001b[0m\u001b[0;34m:\u001b[0m\u001b[0;34m\u001b[0m\u001b[0;34m\u001b[0m\u001b[0m\n\u001b[0;32m--> 731\u001b[0;31m         \u001b[0;32mraise\u001b[0m \u001b[0mValueError\u001b[0m\u001b[0;34m(\u001b[0m\u001b[0;34m\"{0} format is not supported\"\u001b[0m\u001b[0;34m.\u001b[0m\u001b[0mformat\u001b[0m\u001b[0;34m(\u001b[0m\u001b[0my_type\u001b[0m\u001b[0;34m)\u001b[0m\u001b[0;34m)\u001b[0m\u001b[0;34m\u001b[0m\u001b[0;34m\u001b[0m\u001b[0m\n\u001b[0m\u001b[1;32m    732\u001b[0m \u001b[0;34m\u001b[0m\u001b[0m\n\u001b[1;32m    733\u001b[0m     \u001b[0mcheck_consistent_length\u001b[0m\u001b[0;34m(\u001b[0m\u001b[0my_true\u001b[0m\u001b[0;34m,\u001b[0m \u001b[0my_score\u001b[0m\u001b[0;34m,\u001b[0m \u001b[0msample_weight\u001b[0m\u001b[0;34m)\u001b[0m\u001b[0;34m\u001b[0m\u001b[0;34m\u001b[0m\u001b[0m\n",
      "\u001b[0;31mValueError\u001b[0m: multiclass format is not supported"
     ]
    }
   ],
   "source": [
    "# 2. ROC curve\n",
    "from sklearn.metrics import roc_curve, roc_auc_score\n",
    "y_preds = model.predict(x_test)\n",
    "fpr, tpr, thresholds = roc_curve(y_test, y_preds)\n",
    "\n",
    "import seaborn as sns\n",
    "sns.heatmap(fpr, tpr)"
   ]
  },
  {
   "cell_type": "code",
   "execution_count": 82,
   "id": "constitutional-baltimore",
   "metadata": {},
   "outputs": [
    {
     "data": {
      "text/plain": [
       "array([6.67722200e+04, 4.85369900e+04, 2.36208164e+07, 4.08586901e+07,\n",
       "       7.40581462e+07, 2.40385400e+04, 1.11436370e+05, 4.97343500e+04,\n",
       "       1.46032320e+05, 2.80352400e+04, 3.16859310e+07, 1.58086950e+05,\n",
       "       1.14265350e+05, 4.07211588e+07, 8.96841700e+04, 7.27818041e+06,\n",
       "       2.28918000e+04, 1.45155000e+04, 2.80131900e+04, 8.72295624e+07,\n",
       "       5.76140800e+04, 1.03092220e+05, 3.91640099e+07, 8.09736800e+04,\n",
       "       2.63978570e+07, 6.40909204e+07, 7.43240474e+07, 7.18979746e+07,\n",
       "       2.07934900e+04, 3.97517327e+07, 7.67500900e+04, 2.50397700e+04,\n",
       "       3.51563100e+04, 1.40737200e+04, 3.44627248e+07, 7.85241400e+04,\n",
       "       5.99656600e+04, 3.64754700e+04, 1.65751300e+04, 1.47983047e+07,\n",
       "       1.68103980e+05, 7.21697200e+04, 3.95810680e+05, 4.77147100e+04,\n",
       "       3.56760860e+05, 2.17824521e+07, 1.74745228e+06, 1.17805678e+08,\n",
       "       3.11018330e+05, 1.87055300e+04, 2.99803800e+04, 4.89151831e+07,\n",
       "       4.67942399e+07, 5.93142600e+04, 3.58775200e+04, 4.63059300e+04,\n",
       "       2.78054000e+03, 1.71009800e+04, 9.40534434e+07, 1.13406370e+05,\n",
       "       3.75627820e+05, 6.25735291e+07, 5.68422100e+04, 1.80730140e+05,\n",
       "       2.16229491e+07, 2.23171101e+07, 4.14057200e+04, 5.58341900e+04,\n",
       "       1.50097400e+04, 1.32159320e+07, 1.96499906e+06, 7.14164441e+07,\n",
       "       7.78339100e+04, 2.40795835e+07, 7.49845365e+07, 3.07340652e+06,\n",
       "       1.91019980e+05, 2.41789000e+04, 7.07615960e+05, 2.36741890e+05,\n",
       "       1.42824280e+06, 1.47250430e+05, 7.63925829e+07, 2.05926036e+06,\n",
       "       3.49959800e+04, 4.14402200e+04, 1.48352628e+06, 3.49296100e+04,\n",
       "       2.58768896e+07, 7.33233350e+05, 2.48137155e+06, 3.33213500e+04,\n",
       "       5.16150663e+07, 1.96101900e+04, 1.40366274e+07, 1.55944900e+04,\n",
       "       2.64303000e+03, 1.79619300e+04, 3.61254500e+07, 7.18695046e+07,\n",
       "       1.67159900e+04, 6.20132400e+04, 4.86940400e+04, 1.50284690e+05,\n",
       "       7.79235765e+07, 1.37411100e+04, 1.60214400e+04, 1.97299000e+03,\n",
       "       1.16374522e+08, 7.56099934e+07, 1.81643470e+05, 3.79135280e+05,\n",
       "       6.29609427e+06, 2.00022300e+04, 2.33562700e+04, 5.92663750e+05,\n",
       "       1.09823408e+07, 4.90120834e+07, 1.61109440e+05, 4.28983200e+04,\n",
       "       1.00362673e+08, 1.00451800e+08, 3.28451640e+05, 1.74134600e+04,\n",
       "       5.60357900e+04, 2.22509700e+04, 2.65684750e+05, 4.28000200e+04,\n",
       "       1.49671500e+04, 3.23835409e+07, 1.69110661e+07, 2.67370300e+04,\n",
       "       2.33367900e+04, 5.78142053e+07, 4.33378780e+07, 5.34687494e+07,\n",
       "       8.08807800e+04, 1.74893943e+06, 4.59502800e+04, 7.78694900e+04,\n",
       "       1.89111200e+04, 2.51603800e+04, 3.60291400e+04, 4.59017400e+04,\n",
       "       2.10746430e+05, 1.04370080e+05, 6.91995400e+04, 1.92250062e+07,\n",
       "       1.05369130e+05])"
      ]
     },
     "execution_count": 82,
     "metadata": {},
     "output_type": "execute_result"
    }
   ],
   "source": [
    "y_probs = model.predict(x_test)\n",
    "y_probs"
   ]
  },
  {
   "cell_type": "code",
   "execution_count": 85,
   "id": "occupied-edward",
   "metadata": {},
   "outputs": [
    {
     "ename": "IndexError",
     "evalue": "too many indices for array: array is 1-dimensional, but 2 were indexed",
     "output_type": "error",
     "traceback": [
      "\u001b[0;31m---------------------------------------------------------------------------\u001b[0m",
      "\u001b[0;31mIndexError\u001b[0m                                Traceback (most recent call last)",
      "\u001b[0;32m/tmp/ipykernel_36464/2300503843.py\u001b[0m in \u001b[0;36m<module>\u001b[0;34m\u001b[0m\n\u001b[0;32m----> 1\u001b[0;31m \u001b[0my_probs_positive\u001b[0m \u001b[0;34m=\u001b[0m \u001b[0my_probs\u001b[0m\u001b[0;34m[\u001b[0m\u001b[0;34m:\u001b[0m \u001b[0;34m,\u001b[0m \u001b[0;36m1\u001b[0m\u001b[0;34m]\u001b[0m\u001b[0;34m\u001b[0m\u001b[0;34m\u001b[0m\u001b[0m\n\u001b[0m\u001b[1;32m      2\u001b[0m \u001b[0my_probs_positive\u001b[0m\u001b[0;34m\u001b[0m\u001b[0;34m\u001b[0m\u001b[0m\n\u001b[1;32m      3\u001b[0m \u001b[0;34m\u001b[0m\u001b[0m\n",
      "\u001b[0;31mIndexError\u001b[0m: too many indices for array: array is 1-dimensional, but 2 were indexed"
     ]
    }
   ],
   "source": [
    "y_probs_positive = y_probs[: , 1]\n",
    "y_probs_positive\n",
    "    "
   ]
  },
  {
   "cell_type": "code",
   "execution_count": 83,
   "id": "naked-hotel",
   "metadata": {},
   "outputs": [
    {
     "ename": "NameError",
     "evalue": "name 'y_probs_positive' is not defined",
     "output_type": "error",
     "traceback": [
      "\u001b[0;31m---------------------------------------------------------------------------\u001b[0m",
      "\u001b[0;31mNameError\u001b[0m                                 Traceback (most recent call last)",
      "\u001b[0;32m/tmp/ipykernel_36464/620747722.py\u001b[0m in \u001b[0;36m<module>\u001b[0;34m\u001b[0m\n\u001b[1;32m      1\u001b[0m \u001b[0;31m# Now checking the roc curve\u001b[0m\u001b[0;34m\u001b[0m\u001b[0;34m\u001b[0m\u001b[0;34m\u001b[0m\u001b[0m\n\u001b[0;32m----> 2\u001b[0;31m \u001b[0mfpr\u001b[0m\u001b[0;34m,\u001b[0m \u001b[0mtpr\u001b[0m\u001b[0;34m,\u001b[0m \u001b[0mthresholds\u001b[0m \u001b[0;34m=\u001b[0m \u001b[0mroc_curve\u001b[0m\u001b[0;34m(\u001b[0m\u001b[0my_test\u001b[0m\u001b[0;34m,\u001b[0m \u001b[0my_probs_positive\u001b[0m\u001b[0;34m)\u001b[0m\u001b[0;34m\u001b[0m\u001b[0;34m\u001b[0m\u001b[0m\n\u001b[0m\u001b[1;32m      3\u001b[0m \u001b[0;34m\u001b[0m\u001b[0m\n\u001b[1;32m      4\u001b[0m \u001b[0mplt\u001b[0m\u001b[0;34m.\u001b[0m\u001b[0mplot\u001b[0m\u001b[0;34m(\u001b[0m\u001b[0mfpr\u001b[0m\u001b[0;34m,\u001b[0m \u001b[0mtpr\u001b[0m\u001b[0;34m)\u001b[0m\u001b[0;34m;\u001b[0m\u001b[0;34m\u001b[0m\u001b[0;34m\u001b[0m\u001b[0m\n\u001b[1;32m      5\u001b[0m \u001b[0mplt\u001b[0m\u001b[0;34m.\u001b[0m\u001b[0mtitle\u001b[0m\u001b[0;34m(\u001b[0m\u001b[0;34m'ROC Area Under Curve'\u001b[0m\u001b[0;34m)\u001b[0m\u001b[0;34m\u001b[0m\u001b[0;34m\u001b[0m\u001b[0m\n",
      "\u001b[0;31mNameError\u001b[0m: name 'y_probs_positive' is not defined"
     ]
    }
   ],
   "source": [
    "# Now checking the roc curve \n",
    "fpr, tpr, thresholds = roc_curve(y_test, y_probs_positive)\n",
    "\n",
    "plt.plot(fpr, tpr);\n",
    "plt.title('ROC Area Under Curve')\n",
    "plt.xlabel('False Positive Rates')\n",
    "plt.ylabel('True Positive Rates')\n",
    "plt.show();"
   ]
  },
  {
   "cell_type": "code",
   "execution_count": 86,
   "id": "falling-darkness",
   "metadata": {},
   "outputs": [
    {
     "data": {
      "text/plain": [
       "dtype('float64')"
      ]
     },
     "execution_count": 86,
     "metadata": {},
     "output_type": "execute_result"
    }
   ],
   "source": [
    "y_probs.dtype"
   ]
  },
  {
   "cell_type": "code",
   "execution_count": 87,
   "id": "strong-laundry",
   "metadata": {},
   "outputs": [
    {
     "data": {
      "text/plain": [
       "149"
      ]
     },
     "execution_count": 87,
     "metadata": {},
     "output_type": "execute_result"
    }
   ],
   "source": [
    "len(y_probs)"
   ]
  },
  {
   "cell_type": "code",
   "execution_count": 88,
   "id": "intellectual-extreme",
   "metadata": {},
   "outputs": [
    {
     "ename": "AttributeError",
     "evalue": "'numpy.ndarray' object has no attribute 'info'",
     "output_type": "error",
     "traceback": [
      "\u001b[0;31m---------------------------------------------------------------------------\u001b[0m",
      "\u001b[0;31mAttributeError\u001b[0m                            Traceback (most recent call last)",
      "\u001b[0;32m/tmp/ipykernel_36464/2275210614.py\u001b[0m in \u001b[0;36m<module>\u001b[0;34m\u001b[0m\n\u001b[0;32m----> 1\u001b[0;31m \u001b[0my_probs\u001b[0m\u001b[0;34m.\u001b[0m\u001b[0minfo\u001b[0m\u001b[0;34m(\u001b[0m\u001b[0;34m)\u001b[0m\u001b[0;34m\u001b[0m\u001b[0;34m\u001b[0m\u001b[0m\n\u001b[0m",
      "\u001b[0;31mAttributeError\u001b[0m: 'numpy.ndarray' object has no attribute 'info'"
     ]
    }
   ],
   "source": [
    "y_probs.info()"
   ]
  },
  {
   "cell_type": "code",
   "execution_count": 89,
   "id": "stuck-possibility",
   "metadata": {},
   "outputs": [
    {
     "data": {
      "text/plain": [
       "numpy.ndarray"
      ]
     },
     "execution_count": 89,
     "metadata": {},
     "output_type": "execute_result"
    }
   ],
   "source": [
    "type(y_probs)"
   ]
  },
  {
   "cell_type": "code",
   "execution_count": 94,
   "id": "musical-syndicate",
   "metadata": {},
   "outputs": [
    {
     "data": {
      "text/plain": [
       "(1, 1)"
      ]
     },
     "execution_count": 94,
     "metadata": {},
     "output_type": "execute_result"
    }
   ],
   "source": [
    "y_probs.ndim, y_test.ndim"
   ]
  },
  {
   "cell_type": "code",
   "execution_count": 93,
   "id": "double-bradford",
   "metadata": {},
   "outputs": [
    {
     "ename": "ValueError",
     "evalue": "Classification metrics can't handle a mix of multiclass and continuous targets",
     "output_type": "error",
     "traceback": [
      "\u001b[0;31m---------------------------------------------------------------------------\u001b[0m",
      "\u001b[0;31mValueError\u001b[0m                                Traceback (most recent call last)",
      "\u001b[0;32m/tmp/ipykernel_36464/2819033126.py\u001b[0m in \u001b[0;36m<module>\u001b[0;34m\u001b[0m\n\u001b[1;32m      2\u001b[0m \u001b[0;32mfrom\u001b[0m \u001b[0msklearn\u001b[0m\u001b[0;34m.\u001b[0m\u001b[0mmetrics\u001b[0m \u001b[0;32mimport\u001b[0m \u001b[0mconfusion_matrix\u001b[0m\u001b[0;34m\u001b[0m\u001b[0;34m\u001b[0m\u001b[0m\n\u001b[1;32m      3\u001b[0m \u001b[0;34m\u001b[0m\u001b[0m\n\u001b[0;32m----> 4\u001b[0;31m \u001b[0mconf_metrix\u001b[0m \u001b[0;34m=\u001b[0m \u001b[0mconfusion_matrix\u001b[0m\u001b[0;34m(\u001b[0m\u001b[0my_test\u001b[0m\u001b[0;34m,\u001b[0m \u001b[0my_preds\u001b[0m\u001b[0;34m)\u001b[0m\u001b[0;34m\u001b[0m\u001b[0;34m\u001b[0m\u001b[0m\n\u001b[0m\u001b[1;32m      5\u001b[0m \u001b[0mconf_metrix\u001b[0m\u001b[0;34m\u001b[0m\u001b[0;34m\u001b[0m\u001b[0m\n",
      "\u001b[0;32m~/.local/lib/python3.9/site-packages/sklearn/metrics/_classification.py\u001b[0m in \u001b[0;36mconfusion_matrix\u001b[0;34m(y_true, y_pred, labels, sample_weight, normalize)\u001b[0m\n\u001b[1;32m    300\u001b[0m \u001b[0;34m\u001b[0m\u001b[0m\n\u001b[1;32m    301\u001b[0m     \"\"\"\n\u001b[0;32m--> 302\u001b[0;31m     \u001b[0my_type\u001b[0m\u001b[0;34m,\u001b[0m \u001b[0my_true\u001b[0m\u001b[0;34m,\u001b[0m \u001b[0my_pred\u001b[0m \u001b[0;34m=\u001b[0m \u001b[0m_check_targets\u001b[0m\u001b[0;34m(\u001b[0m\u001b[0my_true\u001b[0m\u001b[0;34m,\u001b[0m \u001b[0my_pred\u001b[0m\u001b[0;34m)\u001b[0m\u001b[0;34m\u001b[0m\u001b[0;34m\u001b[0m\u001b[0m\n\u001b[0m\u001b[1;32m    303\u001b[0m     \u001b[0;32mif\u001b[0m \u001b[0my_type\u001b[0m \u001b[0;32mnot\u001b[0m \u001b[0;32min\u001b[0m \u001b[0;34m(\u001b[0m\u001b[0;34m\"binary\"\u001b[0m\u001b[0;34m,\u001b[0m \u001b[0;34m\"multiclass\"\u001b[0m\u001b[0;34m)\u001b[0m\u001b[0;34m:\u001b[0m\u001b[0;34m\u001b[0m\u001b[0;34m\u001b[0m\u001b[0m\n\u001b[1;32m    304\u001b[0m         \u001b[0;32mraise\u001b[0m \u001b[0mValueError\u001b[0m\u001b[0;34m(\u001b[0m\u001b[0;34m\"%s is not supported\"\u001b[0m \u001b[0;34m%\u001b[0m \u001b[0my_type\u001b[0m\u001b[0;34m)\u001b[0m\u001b[0;34m\u001b[0m\u001b[0;34m\u001b[0m\u001b[0m\n",
      "\u001b[0;32m~/.local/lib/python3.9/site-packages/sklearn/metrics/_classification.py\u001b[0m in \u001b[0;36m_check_targets\u001b[0;34m(y_true, y_pred)\u001b[0m\n\u001b[1;32m     91\u001b[0m \u001b[0;34m\u001b[0m\u001b[0m\n\u001b[1;32m     92\u001b[0m     \u001b[0;32mif\u001b[0m \u001b[0mlen\u001b[0m\u001b[0;34m(\u001b[0m\u001b[0my_type\u001b[0m\u001b[0;34m)\u001b[0m \u001b[0;34m>\u001b[0m \u001b[0;36m1\u001b[0m\u001b[0;34m:\u001b[0m\u001b[0;34m\u001b[0m\u001b[0;34m\u001b[0m\u001b[0m\n\u001b[0;32m---> 93\u001b[0;31m         raise ValueError(\n\u001b[0m\u001b[1;32m     94\u001b[0m             \"Classification metrics can't handle a mix of {0} and {1} targets\".format(\n\u001b[1;32m     95\u001b[0m                 \u001b[0mtype_true\u001b[0m\u001b[0;34m,\u001b[0m \u001b[0mtype_pred\u001b[0m\u001b[0;34m\u001b[0m\u001b[0;34m\u001b[0m\u001b[0m\n",
      "\u001b[0;31mValueError\u001b[0m: Classification metrics can't handle a mix of multiclass and continuous targets"
     ]
    }
   ],
   "source": [
    "# 3. Confusion Metrix (where the model should confused)\n",
    "from sklearn.metrics import confusion_matrix\n",
    "\n",
    "conf_metrix = confusion_matrix(y_test, y_preds)\n",
    "conf_metrix"
   ]
  },
  {
   "cell_type": "code",
   "execution_count": 95,
   "id": "partial-sensitivity",
   "metadata": {},
   "outputs": [
    {
     "data": {
      "text/plain": [
       "0.9999354427320334"
      ]
     },
     "execution_count": 95,
     "metadata": {},
     "output_type": "execute_result"
    }
   ],
   "source": [
    "from sklearn.metrics import r2_score\n",
    "y_preds = model.predict(x_test)\n",
    "\n",
    "r2_score(y_test, y_preds)"
   ]
  },
  {
   "cell_type": "code",
   "execution_count": 96,
   "id": "composed-preservation",
   "metadata": {},
   "outputs": [
    {
     "data": {
      "text/plain": [
       "106877.61322147658"
      ]
     },
     "execution_count": 96,
     "metadata": {},
     "output_type": "execute_result"
    }
   ],
   "source": [
    "# 2. mean absolute error\n",
    "from sklearn.metrics import mean_absolute_error\n",
    "\n",
    "mean_absolute_error(y_test, y_preds)"
   ]
  },
  {
   "cell_type": "code",
   "execution_count": 97,
   "id": "pursuant-convenience",
   "metadata": {},
   "outputs": [
    {
     "data": {
      "text/plain": [
       "51874213386.18531"
      ]
     },
     "execution_count": 97,
     "metadata": {},
     "output_type": "execute_result"
    }
   ],
   "source": [
    "# 3. mean squared error\n",
    "from sklearn.metrics import mean_squared_error\n",
    "\n",
    "mean_squared_error(y_test, y_preds)"
   ]
  },
  {
   "cell_type": "code",
   "execution_count": 98,
   "id": "loaded-citation",
   "metadata": {},
   "outputs": [
    {
     "name": "stderr",
     "output_type": "stream",
     "text": [
      "/home/fahad/.local/lib/python3.9/site-packages/sklearn/model_selection/_validation.py:372: FitFailedWarning: \n",
      "5 fits failed out of a total of 5.\n",
      "The score on these train-test partitions for these parameters will be set to nan.\n",
      "If these failures are not expected, you can try to debug them by setting error_score='raise'.\n",
      "\n",
      "Below are more details about the failures:\n",
      "--------------------------------------------------------------------------------\n",
      "1 fits failed with the following error:\n",
      "Traceback (most recent call last):\n",
      "  File \"/home/fahad/.local/lib/python3.9/site-packages/sklearn/model_selection/_validation.py\", line 681, in _fit_and_score\n",
      "    estimator.fit(X_train, y_train, **fit_params)\n",
      "  File \"/home/fahad/.local/lib/python3.9/site-packages/sklearn/ensemble/_forest.py\", line 327, in fit\n",
      "    X, y = self._validate_data(\n",
      "  File \"/home/fahad/.local/lib/python3.9/site-packages/sklearn/base.py\", line 576, in _validate_data\n",
      "    X, y = check_X_y(X, y, **check_params)\n",
      "  File \"/home/fahad/.local/lib/python3.9/site-packages/sklearn/utils/validation.py\", line 956, in check_X_y\n",
      "    X = check_array(\n",
      "  File \"/home/fahad/.local/lib/python3.9/site-packages/sklearn/utils/validation.py\", line 738, in check_array\n",
      "    array = np.asarray(array, order=order, dtype=dtype)\n",
      "  File \"/usr/lib/python3/dist-packages/numpy/core/_asarray.py\", line 83, in asarray\n",
      "    return array(a, dtype, copy=False, order=order)\n",
      "  File \"/usr/lib/python3/dist-packages/pandas/core/generic.py\", line 1781, in __array__\n",
      "    return np.asarray(self._values, dtype=dtype)\n",
      "  File \"/usr/lib/python3/dist-packages/numpy/core/_asarray.py\", line 83, in asarray\n",
      "    return array(a, dtype, copy=False, order=order)\n",
      "ValueError: could not convert string to float: 'v=2nd73lyvq4w'\n",
      "\n",
      "--------------------------------------------------------------------------------\n",
      "4 fits failed with the following error:\n",
      "Traceback (most recent call last):\n",
      "  File \"/home/fahad/.local/lib/python3.9/site-packages/sklearn/model_selection/_validation.py\", line 681, in _fit_and_score\n",
      "    estimator.fit(X_train, y_train, **fit_params)\n",
      "  File \"/home/fahad/.local/lib/python3.9/site-packages/sklearn/ensemble/_forest.py\", line 327, in fit\n",
      "    X, y = self._validate_data(\n",
      "  File \"/home/fahad/.local/lib/python3.9/site-packages/sklearn/base.py\", line 576, in _validate_data\n",
      "    X, y = check_X_y(X, y, **check_params)\n",
      "  File \"/home/fahad/.local/lib/python3.9/site-packages/sklearn/utils/validation.py\", line 956, in check_X_y\n",
      "    X = check_array(\n",
      "  File \"/home/fahad/.local/lib/python3.9/site-packages/sklearn/utils/validation.py\", line 738, in check_array\n",
      "    array = np.asarray(array, order=order, dtype=dtype)\n",
      "  File \"/usr/lib/python3/dist-packages/numpy/core/_asarray.py\", line 83, in asarray\n",
      "    return array(a, dtype, copy=False, order=order)\n",
      "  File \"/usr/lib/python3/dist-packages/pandas/core/generic.py\", line 1781, in __array__\n",
      "    return np.asarray(self._values, dtype=dtype)\n",
      "  File \"/usr/lib/python3/dist-packages/numpy/core/_asarray.py\", line 83, in asarray\n",
      "    return array(a, dtype, copy=False, order=order)\n",
      "ValueError: could not convert string to float: 'v=QbJJwaVdgIs'\n",
      "\n",
      "  warnings.warn(some_fits_failed_message, FitFailedWarning)\n"
     ]
    },
    {
     "data": {
      "text/plain": [
       "(array([nan, nan, nan, nan, nan]), nan)"
      ]
     },
     "execution_count": 98,
     "metadata": {},
     "output_type": "execute_result"
    }
   ],
   "source": [
    "np.random.seed(43)\n",
    "r2_score = cross_val_score(model, x, y, cv=5, scoring=None)\n",
    "r2_score, np.mean(r2_score)"
   ]
  },
  {
   "cell_type": "code",
   "execution_count": null,
   "id": "asian-topic",
   "metadata": {},
   "outputs": [],
   "source": []
  }
 ],
 "metadata": {
  "kernelspec": {
   "display_name": "Python 3 (ipykernel)",
   "language": "python",
   "name": "python3"
  },
  "language_info": {
   "codemirror_mode": {
    "name": "ipython",
    "version": 3
   },
   "file_extension": ".py",
   "mimetype": "text/x-python",
   "name": "python",
   "nbconvert_exporter": "python",
   "pygments_lexer": "ipython3",
   "version": "3.9.1+"
  }
 },
 "nbformat": 4,
 "nbformat_minor": 5
}
